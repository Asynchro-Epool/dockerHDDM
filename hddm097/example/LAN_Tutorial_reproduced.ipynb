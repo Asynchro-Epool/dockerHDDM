{
 "cells": [
  {
   "cell_type": "markdown",
   "id": "occupational-science",
   "metadata": {},
   "source": [
    "# Tutorial\n",
    "\n",
    "Here we reproduce the LAN tutorial from official website: https://hddm.readthedocs.io/en/latest/lan_tutorial.html#tutorial\n",
    "\n",
    "\n",
    "Please check the website for details instructions\n"
   ]
  },
  {
   "cell_type": "markdown",
   "id": "frozen-microphone",
   "metadata": {},
   "source": [
    "## Section 0: Colab Prep (not neccessary in this docker image)"
   ]
  },
  {
   "cell_type": "markdown",
   "id": "entire-overall",
   "metadata": {},
   "source": [
    "### imports"
   ]
  },
  {
   "cell_type": "code",
   "execution_count": 1,
   "id": "innocent-constitutional",
   "metadata": {},
   "outputs": [],
   "source": [
    "# warning settings\n",
    "import warnings\n",
    "warnings.simplefilter(action='ignore', category=FutureWarning)\n",
    "\n",
    "# Data management\n",
    "import pandas as pd\n",
    "import numpy as np\n",
    "import pickle\n",
    "\n",
    "# Plotting\n",
    "import matplotlib.pyplot as plt\n",
    "import matplotlib\n",
    "import seaborn as sns\n",
    "\n",
    "# Stats functionality\n",
    "from statsmodels.distributions.empirical_distribution import ECDF\n",
    "\n",
    "# HDDM\n",
    "import hddm"
   ]
  },
  {
   "cell_type": "code",
   "execution_count": 2,
   "id": "impaired-survey",
   "metadata": {
    "scrolled": true
   },
   "outputs": [
    {
     "name": "stdout",
     "output_type": "stream",
     "text": [
      "The current HDDM version is:  0.9.7\n"
     ]
    }
   ],
   "source": [
    "print(\"The current HDDM version is: \", hddm.__version__)"
   ]
  },
  {
   "cell_type": "markdown",
   "id": "secondary-philippines",
   "metadata": {},
   "source": [
    "## Section 1: Model Info / Simulation / Basic Plotting"
   ]
  },
  {
   "cell_type": "markdown",
   "id": "velvet-fleet",
   "metadata": {},
   "source": [
    "### 1.1 Access Meta-Data"
   ]
  },
  {
   "cell_type": "code",
   "execution_count": 3,
   "id": "equivalent-improvement",
   "metadata": {
    "scrolled": true
   },
   "outputs": [
    {
     "data": {
      "text/plain": [
       "dict_keys(['ddm_vanilla', 'full_ddm_vanilla', 'ddm', 'angle', 'weibull', 'levy', 'full_ddm', 'ornstein', 'ddm_sdv', 'gamma_drift', 'gamma_drift_angle', 'ds_conflict_drift', 'ds_conflict_drift_angle', 'ddm_par2', 'ddm_par2_no_bias', 'ddm_par2_angle_no_bias', 'ddm_par2_weibull_no_bias', 'ddm_seq2', 'ddm_seq2_no_bias', 'ddm_seq2_angle_no_bias', 'ddm_seq2_weibull_no_bias', 'ddm_mic2_adj', 'ddm_mic2_adj_no_bias', 'ddm_mic2_adj_angle_no_bias', 'ddm_mic2_adj_weibull_no_bias', 'tradeoff_no_bias', 'tradeoff_angle_no_bias', 'tradeoff_weibull_no_bias', 'tradeoff_gamma_conflict_no_bias', 'race_no_bias_3', 'race_no_bias_angle_3', 'race_no_bias_4', 'race_no_bias_angle_4', 'lca_no_bias_3', 'lca_no_bias_angle_3', 'lca_no_bias_4', 'lca_no_bias_angle_4', 'weibull_cdf', 'full_ddm2'])"
      ]
     },
     "execution_count": 3,
     "metadata": {},
     "output_type": "execute_result"
    }
   ],
   "source": [
    "# List the models currently available\n",
    "hddm.model_config.model_config.keys()"
   ]
  },
  {
   "cell_type": "markdown",
   "id": "contrary-copying",
   "metadata": {},
   "source": [
    "#### NOTE\n",
    "\n",
    "You find two kinds of extra models which were not mentioned in the model listing above:\n",
    "\n",
    "    Experimental models, which eventually will be fully documented (or dropped)\n",
    "\n",
    "    vanilla models are used predominantly with the basic HDDM() classes. These models are not to be used with the HDDMnn() classes.\n",
    "\n",
    "#### Now taking a closer look at the angle model"
   ]
  },
  {
   "cell_type": "code",
   "execution_count": 4,
   "id": "horizontal-family",
   "metadata": {},
   "outputs": [],
   "source": [
    "# Metadata\n",
    "model = 'ddm'\n",
    "n_samples = 1000"
   ]
  },
  {
   "cell_type": "code",
   "execution_count": 5,
   "id": "loose-worry",
   "metadata": {
    "scrolled": true
   },
   "outputs": [
    {
     "data": {
      "text/plain": [
       "{'doc': 'Basic DDM. Meant for use with the LAN extension. \\nNote that the boundaries here are coded as -a, and a in line with all other models meant for the LAN extension. \\nTo compare model fits between standard HDDM and HDDMnn when using the DDM model, multiply the boundary (a) parameter by 2. \\nWe recommend using standard HDDM if you are interested in the basic DDM, but you might want to use this for testing.',\n",
       " 'params': ['v', 'a', 'z', 't'],\n",
       " 'params_trans': [0, 0, 1, 0],\n",
       " 'params_std_upper': [1.5, 1.0, None, 1.0],\n",
       " 'param_bounds': [[-3.0, 0.3, 0.1, 0.001], [3.0, 2.5, 0.9, 2.0]],\n",
       " 'boundary': <function hddm.simulators.boundary_functions.constant(t=0)>,\n",
       " 'params_default': [0.0, 1.0, 0.5, 0.001],\n",
       " 'hddm_include': ['z'],\n",
       " 'choices': [-1, 1],\n",
       " 'slice_widths': {'v': 1.5,\n",
       "  'v_std': 1,\n",
       "  'a': 1,\n",
       "  'a_std': 1,\n",
       "  'z': 0.1,\n",
       "  'z_trans': 0.2,\n",
       "  't': 0.01,\n",
       "  't_std': 0.15}}"
      ]
     },
     "execution_count": 5,
     "metadata": {},
     "output_type": "execute_result"
    }
   ],
   "source": [
    "# Config for our current model\n",
    "hddm.model_config.model_config[model]"
   ]
  },
  {
   "cell_type": "code",
   "execution_count": 6,
   "id": "insured-bonus",
   "metadata": {
    "scrolled": true
   },
   "outputs": [
    {
     "name": "stdout",
     "output_type": "stream",
     "text": [
      "Basic DDM. Meant for use with the LAN extension. \n",
      "Note that the boundaries here are coded as -a, and a in line with all other models meant for the LAN extension. \n",
      "To compare model fits between standard HDDM and HDDMnn when using the DDM model, multiply the boundary (a) parameter by 2. \n",
      "We recommend using standard HDDM if you are interested in the basic DDM, but you might want to use this for testing.\n"
     ]
    }
   ],
   "source": [
    "# Looking at the doc string before using the model\n",
    "print(hddm.model_config.model_config[model]['doc'])"
   ]
  },
  {
   "cell_type": "markdown",
   "id": "spread-looking",
   "metadata": {},
   "source": [
    "### 1.2 Generate Data"
   ]
  },
  {
   "cell_type": "code",
   "execution_count": 7,
   "id": "negative-remedy",
   "metadata": {},
   "outputs": [],
   "source": [
    "data, full_parameter_dict = hddm.simulators.hddm_dataset_generators.simulator_h_c(n_subjects = 1,\n",
    "                                                                                  n_trials_per_subject = n_samples,\n",
    "                                                                                  model = model,\n",
    "                                                                                  p_outlier = 0.00,\n",
    "                                                                                  conditions = None,\n",
    "                                                                                  depends_on = None,\n",
    "                                                                                  regression_models = None,\n",
    "                                                                                  regression_covariates = None,\n",
    "                                                                                  group_only_regressors = False,\n",
    "                                                                                  group_only = None,\n",
    "                                                                                  fixed_at_default = None)"
   ]
  },
  {
   "cell_type": "code",
   "execution_count": 8,
   "id": "basic-locking",
   "metadata": {
    "scrolled": true
   },
   "outputs": [
    {
     "data": {
      "text/html": [
       "<div>\n",
       "<style scoped>\n",
       "    .dataframe tbody tr th:only-of-type {\n",
       "        vertical-align: middle;\n",
       "    }\n",
       "\n",
       "    .dataframe tbody tr th {\n",
       "        vertical-align: top;\n",
       "    }\n",
       "\n",
       "    .dataframe thead th {\n",
       "        text-align: right;\n",
       "    }\n",
       "</style>\n",
       "<table border=\"1\" class=\"dataframe\">\n",
       "  <thead>\n",
       "    <tr style=\"text-align: right;\">\n",
       "      <th></th>\n",
       "      <th>rt</th>\n",
       "      <th>response</th>\n",
       "      <th>subj_idx</th>\n",
       "      <th>v</th>\n",
       "      <th>a</th>\n",
       "      <th>z</th>\n",
       "      <th>t</th>\n",
       "    </tr>\n",
       "  </thead>\n",
       "  <tbody>\n",
       "    <tr>\n",
       "      <th>0</th>\n",
       "      <td>0.740799</td>\n",
       "      <td>1.0</td>\n",
       "      <td>0</td>\n",
       "      <td>0.361198</td>\n",
       "      <td>1.647303</td>\n",
       "      <td>0.574391</td>\n",
       "      <td>0.272801</td>\n",
       "    </tr>\n",
       "    <tr>\n",
       "      <th>1</th>\n",
       "      <td>1.586807</td>\n",
       "      <td>1.0</td>\n",
       "      <td>0</td>\n",
       "      <td>0.361198</td>\n",
       "      <td>1.647303</td>\n",
       "      <td>0.574391</td>\n",
       "      <td>0.272801</td>\n",
       "    </tr>\n",
       "    <tr>\n",
       "      <th>2</th>\n",
       "      <td>3.654739</td>\n",
       "      <td>0.0</td>\n",
       "      <td>0</td>\n",
       "      <td>0.361198</td>\n",
       "      <td>1.647303</td>\n",
       "      <td>0.574391</td>\n",
       "      <td>0.272801</td>\n",
       "    </tr>\n",
       "    <tr>\n",
       "      <th>3</th>\n",
       "      <td>1.431800</td>\n",
       "      <td>1.0</td>\n",
       "      <td>0</td>\n",
       "      <td>0.361198</td>\n",
       "      <td>1.647303</td>\n",
       "      <td>0.574391</td>\n",
       "      <td>0.272801</td>\n",
       "    </tr>\n",
       "    <tr>\n",
       "      <th>4</th>\n",
       "      <td>1.336795</td>\n",
       "      <td>0.0</td>\n",
       "      <td>0</td>\n",
       "      <td>0.361198</td>\n",
       "      <td>1.647303</td>\n",
       "      <td>0.574391</td>\n",
       "      <td>0.272801</td>\n",
       "    </tr>\n",
       "    <tr>\n",
       "      <th>...</th>\n",
       "      <td>...</td>\n",
       "      <td>...</td>\n",
       "      <td>...</td>\n",
       "      <td>...</td>\n",
       "      <td>...</td>\n",
       "      <td>...</td>\n",
       "      <td>...</td>\n",
       "    </tr>\n",
       "    <tr>\n",
       "      <th>995</th>\n",
       "      <td>2.109831</td>\n",
       "      <td>0.0</td>\n",
       "      <td>0</td>\n",
       "      <td>0.361198</td>\n",
       "      <td>1.647303</td>\n",
       "      <td>0.574391</td>\n",
       "      <td>0.272801</td>\n",
       "    </tr>\n",
       "    <tr>\n",
       "      <th>996</th>\n",
       "      <td>2.332834</td>\n",
       "      <td>1.0</td>\n",
       "      <td>0</td>\n",
       "      <td>0.361198</td>\n",
       "      <td>1.647303</td>\n",
       "      <td>0.574391</td>\n",
       "      <td>0.272801</td>\n",
       "    </tr>\n",
       "    <tr>\n",
       "      <th>997</th>\n",
       "      <td>2.072829</td>\n",
       "      <td>1.0</td>\n",
       "      <td>0</td>\n",
       "      <td>0.361198</td>\n",
       "      <td>1.647303</td>\n",
       "      <td>0.574391</td>\n",
       "      <td>0.272801</td>\n",
       "    </tr>\n",
       "    <tr>\n",
       "      <th>998</th>\n",
       "      <td>0.940796</td>\n",
       "      <td>1.0</td>\n",
       "      <td>0</td>\n",
       "      <td>0.361198</td>\n",
       "      <td>1.647303</td>\n",
       "      <td>0.574391</td>\n",
       "      <td>0.272801</td>\n",
       "    </tr>\n",
       "    <tr>\n",
       "      <th>999</th>\n",
       "      <td>2.397830</td>\n",
       "      <td>1.0</td>\n",
       "      <td>0</td>\n",
       "      <td>0.361198</td>\n",
       "      <td>1.647303</td>\n",
       "      <td>0.574391</td>\n",
       "      <td>0.272801</td>\n",
       "    </tr>\n",
       "  </tbody>\n",
       "</table>\n",
       "<p>1000 rows × 7 columns</p>\n",
       "</div>"
      ],
      "text/plain": [
       "           rt  response subj_idx         v         a         z         t\n",
       "0    0.740799       1.0        0  0.361198  1.647303  0.574391  0.272801\n",
       "1    1.586807       1.0        0  0.361198  1.647303  0.574391  0.272801\n",
       "2    3.654739       0.0        0  0.361198  1.647303  0.574391  0.272801\n",
       "3    1.431800       1.0        0  0.361198  1.647303  0.574391  0.272801\n",
       "4    1.336795       0.0        0  0.361198  1.647303  0.574391  0.272801\n",
       "..        ...       ...      ...       ...       ...       ...       ...\n",
       "995  2.109831       0.0        0  0.361198  1.647303  0.574391  0.272801\n",
       "996  2.332834       1.0        0  0.361198  1.647303  0.574391  0.272801\n",
       "997  2.072829       1.0        0  0.361198  1.647303  0.574391  0.272801\n",
       "998  0.940796       1.0        0  0.361198  1.647303  0.574391  0.272801\n",
       "999  2.397830       1.0        0  0.361198  1.647303  0.574391  0.272801\n",
       "\n",
       "[1000 rows x 7 columns]"
      ]
     },
     "execution_count": 8,
     "metadata": {},
     "output_type": "execute_result"
    }
   ],
   "source": [
    "data"
   ]
  },
  {
   "cell_type": "code",
   "execution_count": 9,
   "id": "italian-cookie",
   "metadata": {
    "scrolled": true
   },
   "outputs": [
    {
     "data": {
      "text/plain": [
       "{'t': 0.2728013965442979,\n",
       " 'v': 0.36119777401627584,\n",
       " 'a': 1.6473026740364847,\n",
       " 'z': 0.5743908460458645}"
      ]
     },
     "execution_count": 9,
     "metadata": {},
     "output_type": "execute_result"
    }
   ],
   "source": [
    "full_parameter_dict"
   ]
  },
  {
   "cell_type": "markdown",
   "id": "sharing-introduction",
   "metadata": {},
   "source": [
    "### 1.2 First Plot"
   ]
  },
  {
   "cell_type": "code",
   "execution_count": 10,
   "id": "architectural-floor",
   "metadata": {
    "scrolled": true
   },
   "outputs": [
    {
     "name": "stdout",
     "output_type": "stream",
     "text": [
      "subj_idx(0)\n"
     ]
    },
    {
     "data": {
      "image/png": "[encoded data removed]",
      "text/plain": [
       "<Figure size 288x216 with 3 Axes>"
      ]
     },
     "metadata": {
      "needs_background": "light"
     },
     "output_type": "display_data"
    }
   ],
   "source": [
    "hddm.plotting.plot_from_data(df = data,\n",
    "                             generative_model = model,\n",
    "                             columns = 1,\n",
    "                             groupby = ['subj_idx'],\n",
    "                             figsize = (4, 3),\n",
    "                             value_range = np.arange(0, 5, 0.1),\n",
    "                             plot_func = hddm.plotting._plot_func_model,\n",
    "                             **{'alpha': 1.,\n",
    "                                'ylim': 3,\n",
    "                                'add_data_rts': True,\n",
    "                                'add_data_model': False})\n",
    "plt.show()"
   ]
  },
  {
   "cell_type": "code",
   "execution_count": 11,
   "id": "mysterious-brown",
   "metadata": {
    "scrolled": true
   },
   "outputs": [
    {
     "name": "stdout",
     "output_type": "stream",
     "text": [
      "subj_idx(0)\n"
     ]
    },
    {
     "data": {
      "image/png": "[encoded data removed]",
      "text/plain": [
       "<Figure size 288x216 with 3 Axes>"
      ]
     },
     "metadata": {
      "needs_background": "light"
     },
     "output_type": "display_data"
    }
   ],
   "source": [
    "hddm.plotting.plot_from_data(df = data,\n",
    "                             generative_model = model,\n",
    "                             columns = 1,\n",
    "                             groupby = ['subj_idx'],\n",
    "                             figsize = (4, 3),\n",
    "                             value_range = np.arange(0, 5, 0.1),\n",
    "                             plot_func = hddm.plotting._plot_func_model,\n",
    "                             **{'alpha': 1.,\n",
    "                                'ylim': 3,\n",
    "                                'add_data_rts': True,\n",
    "                                'add_data_model': True})\n",
    "plt.show()"
   ]
  },
  {
   "cell_type": "markdown",
   "id": "greenhouse-finnish",
   "metadata": {},
   "source": [
    "## Section 2: Single Subject (or collapsed) Data"
   ]
  },
  {
   "cell_type": "code",
   "execution_count": 12,
   "id": "wireless-strengthening",
   "metadata": {},
   "outputs": [],
   "source": [
    "# Metadata\n",
    "nmcmc = 1500\n",
    "model = 'angle'\n",
    "n_samples = 1000\n",
    "includes = hddm.model_config.model_config[model]['hddm_include']"
   ]
  },
  {
   "cell_type": "code",
   "execution_count": 13,
   "id": "pressed-vietnamese",
   "metadata": {},
   "outputs": [],
   "source": [
    "# Generate some simulatred data\n",
    "data, full_parameter_dict = hddm.simulators.hddm_dataset_generators.simulator_h_c(n_subjects = 1,\n",
    "                                                                                  n_trials_per_subject = n_samples,\n",
    "                                                                                  model = model,\n",
    "                                                                                  p_outlier = 0.00,\n",
    "                                                                                  conditions = None,\n",
    "                                                                                  depends_on = None,\n",
    "                                                                                  regression_models = None,\n",
    "                                                                                  regression_covariates = None, # need this to make initial covariate matrix from which to use dmatrix (patsy)\n",
    "                                                                                  group_only_regressors = False,\n",
    "                                                                                  group_only = None,\n",
    "                                                                                  fixed_at_default = None)\n"
   ]
  },
  {
   "cell_type": "code",
   "execution_count": 14,
   "id": "signal-purple",
   "metadata": {
    "scrolled": true
   },
   "outputs": [
    {
     "data": {
      "text/html": [
       "<div>\n",
       "<style scoped>\n",
       "    .dataframe tbody tr th:only-of-type {\n",
       "        vertical-align: middle;\n",
       "    }\n",
       "\n",
       "    .dataframe tbody tr th {\n",
       "        vertical-align: top;\n",
       "    }\n",
       "\n",
       "    .dataframe thead th {\n",
       "        text-align: right;\n",
       "    }\n",
       "</style>\n",
       "<table border=\"1\" class=\"dataframe\">\n",
       "  <thead>\n",
       "    <tr style=\"text-align: right;\">\n",
       "      <th></th>\n",
       "      <th>rt</th>\n",
       "      <th>response</th>\n",
       "      <th>subj_idx</th>\n",
       "      <th>v</th>\n",
       "      <th>a</th>\n",
       "      <th>z</th>\n",
       "      <th>t</th>\n",
       "      <th>theta</th>\n",
       "    </tr>\n",
       "  </thead>\n",
       "  <tbody>\n",
       "    <tr>\n",
       "      <th>0</th>\n",
       "      <td>1.142086</td>\n",
       "      <td>1.0</td>\n",
       "      <td>0</td>\n",
       "      <td>0.883996</td>\n",
       "      <td>1.244513</td>\n",
       "      <td>0.382745</td>\n",
       "      <td>0.782087</td>\n",
       "      <td>0.538936</td>\n",
       "    </tr>\n",
       "    <tr>\n",
       "      <th>1</th>\n",
       "      <td>1.983087</td>\n",
       "      <td>1.0</td>\n",
       "      <td>0</td>\n",
       "      <td>0.883996</td>\n",
       "      <td>1.244513</td>\n",
       "      <td>0.382745</td>\n",
       "      <td>0.782087</td>\n",
       "      <td>0.538936</td>\n",
       "    </tr>\n",
       "    <tr>\n",
       "      <th>2</th>\n",
       "      <td>1.440082</td>\n",
       "      <td>1.0</td>\n",
       "      <td>0</td>\n",
       "      <td>0.883996</td>\n",
       "      <td>1.244513</td>\n",
       "      <td>0.382745</td>\n",
       "      <td>0.782087</td>\n",
       "      <td>0.538936</td>\n",
       "    </tr>\n",
       "    <tr>\n",
       "      <th>3</th>\n",
       "      <td>1.606080</td>\n",
       "      <td>0.0</td>\n",
       "      <td>0</td>\n",
       "      <td>0.883996</td>\n",
       "      <td>1.244513</td>\n",
       "      <td>0.382745</td>\n",
       "      <td>0.782087</td>\n",
       "      <td>0.538936</td>\n",
       "    </tr>\n",
       "    <tr>\n",
       "      <th>4</th>\n",
       "      <td>1.388083</td>\n",
       "      <td>1.0</td>\n",
       "      <td>0</td>\n",
       "      <td>0.883996</td>\n",
       "      <td>1.244513</td>\n",
       "      <td>0.382745</td>\n",
       "      <td>0.782087</td>\n",
       "      <td>0.538936</td>\n",
       "    </tr>\n",
       "    <tr>\n",
       "      <th>...</th>\n",
       "      <td>...</td>\n",
       "      <td>...</td>\n",
       "      <td>...</td>\n",
       "      <td>...</td>\n",
       "      <td>...</td>\n",
       "      <td>...</td>\n",
       "      <td>...</td>\n",
       "      <td>...</td>\n",
       "    </tr>\n",
       "    <tr>\n",
       "      <th>995</th>\n",
       "      <td>0.967088</td>\n",
       "      <td>0.0</td>\n",
       "      <td>0</td>\n",
       "      <td>0.883996</td>\n",
       "      <td>1.244513</td>\n",
       "      <td>0.382745</td>\n",
       "      <td>0.782087</td>\n",
       "      <td>0.538936</td>\n",
       "    </tr>\n",
       "    <tr>\n",
       "      <th>996</th>\n",
       "      <td>1.363083</td>\n",
       "      <td>0.0</td>\n",
       "      <td>0</td>\n",
       "      <td>0.883996</td>\n",
       "      <td>1.244513</td>\n",
       "      <td>0.382745</td>\n",
       "      <td>0.782087</td>\n",
       "      <td>0.538936</td>\n",
       "    </tr>\n",
       "    <tr>\n",
       "      <th>997</th>\n",
       "      <td>1.450082</td>\n",
       "      <td>1.0</td>\n",
       "      <td>0</td>\n",
       "      <td>0.883996</td>\n",
       "      <td>1.244513</td>\n",
       "      <td>0.382745</td>\n",
       "      <td>0.782087</td>\n",
       "      <td>0.538936</td>\n",
       "    </tr>\n",
       "    <tr>\n",
       "      <th>998</th>\n",
       "      <td>1.865082</td>\n",
       "      <td>1.0</td>\n",
       "      <td>0</td>\n",
       "      <td>0.883996</td>\n",
       "      <td>1.244513</td>\n",
       "      <td>0.382745</td>\n",
       "      <td>0.782087</td>\n",
       "      <td>0.538936</td>\n",
       "    </tr>\n",
       "    <tr>\n",
       "      <th>999</th>\n",
       "      <td>1.447082</td>\n",
       "      <td>0.0</td>\n",
       "      <td>0</td>\n",
       "      <td>0.883996</td>\n",
       "      <td>1.244513</td>\n",
       "      <td>0.382745</td>\n",
       "      <td>0.782087</td>\n",
       "      <td>0.538936</td>\n",
       "    </tr>\n",
       "  </tbody>\n",
       "</table>\n",
       "<p>1000 rows × 8 columns</p>\n",
       "</div>"
      ],
      "text/plain": [
       "           rt  response subj_idx         v         a         z         t  \\\n",
       "0    1.142086       1.0        0  0.883996  1.244513  0.382745  0.782087   \n",
       "1    1.983087       1.0        0  0.883996  1.244513  0.382745  0.782087   \n",
       "2    1.440082       1.0        0  0.883996  1.244513  0.382745  0.782087   \n",
       "3    1.606080       0.0        0  0.883996  1.244513  0.382745  0.782087   \n",
       "4    1.388083       1.0        0  0.883996  1.244513  0.382745  0.782087   \n",
       "..        ...       ...      ...       ...       ...       ...       ...   \n",
       "995  0.967088       0.0        0  0.883996  1.244513  0.382745  0.782087   \n",
       "996  1.363083       0.0        0  0.883996  1.244513  0.382745  0.782087   \n",
       "997  1.450082       1.0        0  0.883996  1.244513  0.382745  0.782087   \n",
       "998  1.865082       1.0        0  0.883996  1.244513  0.382745  0.782087   \n",
       "999  1.447082       0.0        0  0.883996  1.244513  0.382745  0.782087   \n",
       "\n",
       "        theta  \n",
       "0    0.538936  \n",
       "1    0.538936  \n",
       "2    0.538936  \n",
       "3    0.538936  \n",
       "4    0.538936  \n",
       "..        ...  \n",
       "995  0.538936  \n",
       "996  0.538936  \n",
       "997  0.538936  \n",
       "998  0.538936  \n",
       "999  0.538936  \n",
       "\n",
       "[1000 rows x 8 columns]"
      ]
     },
     "execution_count": 14,
     "metadata": {},
     "output_type": "execute_result"
    }
   ],
   "source": [
    "data"
   ]
  },
  {
   "cell_type": "code",
   "execution_count": 15,
   "id": "polyphonic-drill",
   "metadata": {},
   "outputs": [
    {
     "name": "stdout",
     "output_type": "stream",
     "text": [
      "Supplied model_config specifies params_std_upper for  z as  None.\n",
      "Changed to 10\n"
     ]
    }
   ],
   "source": [
    "# Define the HDDM model\n",
    "hddmnn_model = hddm.HDDMnn(data,\n",
    "                           informative = False,\n",
    "                           include = includes,\n",
    "                           p_outlier = 0.01,\n",
    "                           w_outlier = 0.1,\n",
    "                           model = model,)"
   ]
  },
  {
   "cell_type": "code",
   "execution_count": 16,
   "id": "desperate-navigator",
   "metadata": {},
   "outputs": [
    {
     "name": "stdout",
     "output_type": "stream",
     "text": [
      " [-----------------100%-----------------] 1500 of 1500 complete in 59.8 sec"
     ]
    },
    {
     "data": {
      "text/plain": [
       "<pymc.MCMC.MCMC at 0x7fecdb9d6c10>"
      ]
     },
     "execution_count": 16,
     "metadata": {},
     "output_type": "execute_result"
    }
   ],
   "source": [
    "# Sample\n",
    "hddmnn_model.sample(nmcmc,\n",
    "                    burn = 500)"
   ]
  },
  {
   "cell_type": "markdown",
   "id": "square-nutrition",
   "metadata": {},
   "source": [
    "### 2.1 Visualization"
   ]
  },
  {
   "cell_type": "code",
   "execution_count": 17,
   "id": "beneficial-bench",
   "metadata": {
    "scrolled": true
   },
   "outputs": [
    {
     "ename": "AttributeError",
     "evalue": "'HDDMnn' object has no attribute 'rl_rule'",
     "output_type": "error",
     "traceback": [
      "\u001b[0;31m---------------------------------------------------------------------------\u001b[0m",
      "\u001b[0;31mAttributeError\u001b[0m                            Traceback (most recent call last)",
      "\u001b[0;32m<ipython-input-17-64d15b9ae293>\u001b[0m in \u001b[0;36m<module>\u001b[0;34m\u001b[0m\n\u001b[1;32m      1\u001b[0m \u001b[0;31m# Caterpillar Plot: (Parameters recovered ok?)\u001b[0m\u001b[0;34m\u001b[0m\u001b[0;34m\u001b[0m\u001b[0;34m\u001b[0m\u001b[0m\n\u001b[0;32m----> 2\u001b[0;31m hddm.plotting.plot_caterpillar(hddm_model = hddmnn_model,\n\u001b[0m\u001b[1;32m      3\u001b[0m                                \u001b[0mground_truth_parameter_dict\u001b[0m \u001b[0;34m=\u001b[0m \u001b[0mfull_parameter_dict\u001b[0m\u001b[0;34m,\u001b[0m\u001b[0;34m\u001b[0m\u001b[0;34m\u001b[0m\u001b[0m\n\u001b[1;32m      4\u001b[0m                                \u001b[0mfigsize\u001b[0m \u001b[0;34m=\u001b[0m \u001b[0;34m(\u001b[0m\u001b[0;36m8\u001b[0m\u001b[0;34m,\u001b[0m \u001b[0;36m5\u001b[0m\u001b[0;34m)\u001b[0m\u001b[0;34m,\u001b[0m\u001b[0;34m\u001b[0m\u001b[0;34m\u001b[0m\u001b[0m\n\u001b[1;32m      5\u001b[0m                                columns = 3)\n",
      "\u001b[0;32m/opt/conda/lib/python3.8/site-packages/hddm/plotting.py\u001b[0m in \u001b[0;36mplot_caterpillar\u001b[0;34m(hddm_model, ground_truth_parameter_dict, drop_sd, keep_key, figsize, columns, save, path, format, y_tick_size, x_tick_size)\u001b[0m\n\u001b[1;32m   1928\u001b[0m         \u001b[0;32mreturn\u001b[0m \u001b[0;34m\"No HDDM object supplied\"\u001b[0m\u001b[0;34m\u001b[0m\u001b[0;34m\u001b[0m\u001b[0m\n\u001b[1;32m   1929\u001b[0m \u001b[0;34m\u001b[0m\u001b[0m\n\u001b[0;32m-> 1930\u001b[0;31m     \u001b[0mout\u001b[0m \u001b[0;34m=\u001b[0m \u001b[0m_group_node_names_by_param\u001b[0m\u001b[0;34m(\u001b[0m\u001b[0mmodel\u001b[0m\u001b[0;34m=\u001b[0m\u001b[0mhddm_model\u001b[0m\u001b[0;34m)\u001b[0m\u001b[0;34m\u001b[0m\u001b[0;34m\u001b[0m\u001b[0m\n\u001b[0m\u001b[1;32m   1931\u001b[0m     \u001b[0mtraces_by_param\u001b[0m \u001b[0;34m=\u001b[0m \u001b[0m_group_traces_via_grouped_nodes\u001b[0m\u001b[0;34m(\u001b[0m\u001b[0mmodel\u001b[0m\u001b[0;34m=\u001b[0m\u001b[0mhddm_model\u001b[0m\u001b[0;34m,\u001b[0m \u001b[0mgroup_dict\u001b[0m\u001b[0;34m=\u001b[0m\u001b[0mout\u001b[0m\u001b[0;34m)\u001b[0m\u001b[0;34m\u001b[0m\u001b[0;34m\u001b[0m\u001b[0m\n\u001b[1;32m   1932\u001b[0m \u001b[0;34m\u001b[0m\u001b[0m\n",
      "\u001b[0;32m/opt/conda/lib/python3.8/site-packages/hddm/plotting.py\u001b[0m in \u001b[0;36m_group_node_names_by_param\u001b[0;34m(model)\u001b[0m\n\u001b[1;32m   1821\u001b[0m     \u001b[0mtmp_params_allowed\u001b[0m \u001b[0;34m=\u001b[0m \u001b[0mmodel_config\u001b[0m\u001b[0;34m[\u001b[0m\u001b[0mmodel\u001b[0m\u001b[0;34m.\u001b[0m\u001b[0mmodel\u001b[0m\u001b[0;34m]\u001b[0m\u001b[0;34m[\u001b[0m\u001b[0;34m\"params\"\u001b[0m\u001b[0;34m]\u001b[0m\u001b[0;34m.\u001b[0m\u001b[0mcopy\u001b[0m\u001b[0;34m(\u001b[0m\u001b[0;34m)\u001b[0m\u001b[0;34m\u001b[0m\u001b[0;34m\u001b[0m\u001b[0m\n\u001b[1;32m   1822\u001b[0m     \u001b[0;32mif\u001b[0m \u001b[0mhasattr\u001b[0m\u001b[0;34m(\u001b[0m\u001b[0mmodel\u001b[0m\u001b[0;34m,\u001b[0m \u001b[0;34m'rlssm_model'\u001b[0m\u001b[0;34m)\u001b[0m\u001b[0;34m:\u001b[0m\u001b[0;34m\u001b[0m\u001b[0;34m\u001b[0m\u001b[0m\n\u001b[0;32m-> 1823\u001b[0;31m         \u001b[0mtmp_params_allowed\u001b[0m\u001b[0;34m.\u001b[0m\u001b[0mextend\u001b[0m\u001b[0;34m(\u001b[0m\u001b[0mmodel_config_rl\u001b[0m\u001b[0;34m[\u001b[0m\u001b[0mmodel\u001b[0m\u001b[0;34m.\u001b[0m\u001b[0mrl_rule\u001b[0m\u001b[0;34m]\u001b[0m\u001b[0;34m[\u001b[0m\u001b[0;34m\"params\"\u001b[0m\u001b[0;34m]\u001b[0m\u001b[0;34m)\u001b[0m\u001b[0;34m\u001b[0m\u001b[0;34m\u001b[0m\u001b[0m\n\u001b[0m\u001b[1;32m   1824\u001b[0m     \u001b[0mtmp_params_allowed\u001b[0m\u001b[0;34m.\u001b[0m\u001b[0mappend\u001b[0m\u001b[0;34m(\u001b[0m\u001b[0;34m\"dc\"\u001b[0m\u001b[0;34m)\u001b[0m  \u001b[0;31m# to accomodate HDDMStimcoding class\u001b[0m\u001b[0;34m\u001b[0m\u001b[0;34m\u001b[0m\u001b[0m\n\u001b[1;32m   1825\u001b[0m     \u001b[0mkeys_by_param\u001b[0m \u001b[0;34m=\u001b[0m \u001b[0;34m{\u001b[0m\u001b[0;34m}\u001b[0m\u001b[0;34m\u001b[0m\u001b[0;34m\u001b[0m\u001b[0m\n",
      "\u001b[0;31mAttributeError\u001b[0m: 'HDDMnn' object has no attribute 'rl_rule'"
     ]
    }
   ],
   "source": [
    "# Caterpillar Plot: (Parameters recovered ok?)\n",
    "hddm.plotting.plot_caterpillar(hddm_model = hddmnn_model,\n",
    "                               ground_truth_parameter_dict = full_parameter_dict,\n",
    "                               figsize = (8, 5),\n",
    "                               columns = 3)\n",
    "\n",
    "plt.show()"
   ]
  },
  {
   "cell_type": "markdown",
   "id": "effective-technician",
   "metadata": {},
   "source": [
    "#### 2.1.1 Posterior Predictive (via `model cartoon plot`)"
   ]
  },
  {
   "cell_type": "code",
   "execution_count": null,
   "id": "fabulous-garbage",
   "metadata": {},
   "outputs": [],
   "source": [
    "hddm.plotting.plot_posterior_predictive(model = hddmnn_model,\n",
    "                                        columns = 1,\n",
    "                                        groupby = ['subj_idx'],\n",
    "                                        figsize = (6, 4),\n",
    "                                        value_range = np.arange(0, 5, 0.1),\n",
    "                                        plot_func = hddm.plotting._plot_func_model,\n",
    "                                        parameter_recovery_mode = True,\n",
    "                                        **{'alpha': 0.01,\n",
    "                                        'ylim': 3,\n",
    "                                        'samples': 200})\n",
    "plt.show()"
   ]
  },
  {
   "cell_type": "markdown",
   "id": "precise-flood",
   "metadata": {},
   "source": [
    "**A small note on convergence:**"
   ]
  },
  {
   "cell_type": "code",
   "execution_count": null,
   "id": "hourly-pennsylvania",
   "metadata": {
    "scrolled": true
   },
   "outputs": [],
   "source": [
    "# TAKING A LOOK AT THE POSTERIOR TRACES\n",
    "hddmnn_model.plot_posteriors(hddm.simulators.model_config[model]['params'])\n",
    "plt.show()"
   ]
  },
  {
   "cell_type": "code",
   "execution_count": null,
   "id": "bored-teddy",
   "metadata": {
    "scrolled": true
   },
   "outputs": [],
   "source": [
    "hddm.plotting.plot_posterior_pair(hddmnn_model, save = False,\n",
    "                                  parameter_recovery_mode = True,\n",
    "                                  samples = 500,\n",
    "                                  figsize = (6, 6))"
   ]
  },
  {
   "cell_type": "markdown",
   "id": "boring-bundle",
   "metadata": {},
   "source": [
    "## Section 3: Hierarchical Models"
   ]
  },
  {
   "cell_type": "code",
   "execution_count": null,
   "id": "inner-progress",
   "metadata": {},
   "outputs": [],
   "source": [
    "# Metadata\n",
    "nmcmc = 1000\n",
    "model = 'angle'\n",
    "n_trials_per_subject = 200\n",
    "n_subjects = 10"
   ]
  },
  {
   "cell_type": "code",
   "execution_count": null,
   "id": "general-general",
   "metadata": {},
   "outputs": [],
   "source": [
    "# test regressors only False\n",
    "# add p_outliers to the generator !\n",
    "data, full_parameter_dict = hddm.simulators.hddm_dataset_generators.simulator_h_c(data = None,\n",
    "                                                                                  n_subjects = n_subjects,\n",
    "                                                                                  n_trials_per_subject = n_trials_per_subject,\n",
    "                                                                                  model = model,\n",
    "                                                                                  p_outlier = 0.00,\n",
    "                                                                                  conditions = None,\n",
    "                                                                                  depends_on = None,\n",
    "                                                                                  regression_models = None,\n",
    "                                                                                  regression_covariates = None,\n",
    "                                                                                  group_only_regressors = False,\n",
    "                                                                                  group_only = None,\n",
    "                                                                                  fixed_at_default = None)\n"
   ]
  },
  {
   "cell_type": "code",
   "execution_count": null,
   "id": "metallic-drink",
   "metadata": {
    "scrolled": true
   },
   "outputs": [],
   "source": [
    "hddmnn_model = hddm.HDDMnn(data,\n",
    "                           model = model,\n",
    "                           informative = False,\n",
    "                           is_group_model = True,\n",
    "                           include = hddm.simulators.model_config[model]['hddm_include'],\n",
    "                           p_outlier = 0.0)"
   ]
  },
  {
   "cell_type": "code",
   "execution_count": null,
   "id": "chemical-kidney",
   "metadata": {
    "scrolled": true
   },
   "outputs": [],
   "source": [
    "hddmnn_model.sample(nmcmc,\n",
    "                    burn = 100) # if you want to save the model specify extra arguments --> dbname='traces.db', db='pickle'. # hddmnn_model.save('test_model')"
   ]
  },
  {
   "cell_type": "code",
   "execution_count": null,
   "id": "robust-screen",
   "metadata": {},
   "outputs": [],
   "source": [
    "# Caterpillar Plot: (Parameters recovered ok?)\n",
    "hddm.plotting.plot_caterpillar(hddm_model = hddmnn_model,\n",
    "                               ground_truth_parameter_dict = full_parameter_dict,\n",
    "                               figsize = (8, 5),\n",
    "                               columns = 3)\n",
    "\n",
    "plt.show()"
   ]
  },
  {
   "cell_type": "markdown",
   "id": "announced-platinum",
   "metadata": {},
   "source": [
    "## Section 4: Parameter varies by Condition"
   ]
  },
  {
   "cell_type": "code",
   "execution_count": null,
   "id": "democratic-nepal",
   "metadata": {},
   "outputs": [],
   "source": [
    "# Metadata\n",
    "nmcmc = 1000\n",
    "model = 'angle'\n",
    "n_trials_per_subject = 500\n",
    "\n",
    "# We allow the boundary conditions to vary\n",
    "depends_on = {'a': ['c_one']}\n",
    "\n",
    "# They will depend on a fictious column 'c_one' that specifies\n",
    "# levels / conditions\n",
    "conditions = {'c_one': ['low', 'medium', 'high']}"
   ]
  },
  {
   "cell_type": "code",
   "execution_count": null,
   "id": "liable-reputation",
   "metadata": {},
   "outputs": [],
   "source": [
    "data, full_parameter_dict = hddm.simulators.hddm_dataset_generators.simulator_h_c(n_subjects = 1,\n",
    "                                                                                  n_trials_per_subject = n_trials_per_subject,\n",
    "                                                                                  model = model,\n",
    "                                                                                  p_outlier = 0.00,\n",
    "                                                                                  conditions = conditions,\n",
    "                                                                                  depends_on = depends_on,\n",
    "                                                                                  regression_models = None,\n",
    "                                                                                  regression_covariates = None,\n",
    "                                                                                  group_only_regressors = False,\n",
    "                                                                                  group_only = None,\n",
    "                                                                                  fixed_at_default = None)\n"
   ]
  },
  {
   "cell_type": "code",
   "execution_count": null,
   "id": "vanilla-representative",
   "metadata": {},
   "outputs": [],
   "source": [
    "# Let's check the resulting parameter vector\n",
    "full_parameter_dict"
   ]
  },
  {
   "cell_type": "code",
   "execution_count": null,
   "id": "acute-character",
   "metadata": {},
   "outputs": [],
   "source": [
    "# Make HDDM Model\n",
    "hddmnn_model = hddm.HDDMnn(data,\n",
    "                           model = model,\n",
    "                           informative = False,\n",
    "                           include = hddm.simulators.model_config[model]['hddm_include'],\n",
    "                           p_outlier = 0.0,\n",
    "                           is_group_model = False,\n",
    "                           depends_on = depends_on)\n"
   ]
  },
  {
   "cell_type": "code",
   "execution_count": null,
   "id": "christian-tattoo",
   "metadata": {},
   "outputs": [],
   "source": [
    "# Sample\n",
    "hddmnn_model.sample(nmcmc, burn = 100)"
   ]
  },
  {
   "cell_type": "code",
   "execution_count": null,
   "id": "constitutional-driver",
   "metadata": {},
   "outputs": [],
   "source": [
    "# Caterpillar Plot: (Parameters recovered ok?)\n",
    "hddm.plotting.plot_caterpillar(hddm_model = hddmnn_model,\n",
    "                               ground_truth_parameter_dict = full_parameter_dict,\n",
    "                               figsize = (8, 5),\n",
    "                               columns = 3)\n",
    "\n",
    "plt.show()"
   ]
  },
  {
   "cell_type": "code",
   "execution_count": null,
   "id": "imperial-passion",
   "metadata": {
    "scrolled": true
   },
   "outputs": [],
   "source": [
    "hddm.plotting.plot_posterior_predictive(model = hddmnn_model,\n",
    "                                        columns = 1,\n",
    "                                        groupby = ['subj_idx'],\n",
    "                                        figsize = (4, 4),\n",
    "                                        value_range = np.arange(0, 5, 0.1),\n",
    "                                        plot_func = hddm.plotting._plot_func_model,\n",
    "                                        parameter_recovery_mode = True,\n",
    "                                        **{'alpha': 0.01,\n",
    "                                        'ylim': 3,\n",
    "                                        'add_posterior_uncertainty_rts': True,\n",
    "                                        'add_posterior_uncertainty_model': True,\n",
    "                                        'samples': 200})\n",
    "plt.show()"
   ]
  },
  {
   "cell_type": "markdown",
   "id": "established-composition",
   "metadata": {},
   "source": [
    "### 4.1 Combine hierarchical and condition data"
   ]
  },
  {
   "cell_type": "code",
   "execution_count": null,
   "id": "delayed-compromise",
   "metadata": {},
   "outputs": [],
   "source": [
    "# Metadata\n",
    "nmcmc = 1500\n",
    "model = 'angle'\n",
    "n_subjects = 5\n",
    "n_trials_per_subject = 500"
   ]
  },
  {
   "cell_type": "code",
   "execution_count": null,
   "id": "balanced-custody",
   "metadata": {},
   "outputs": [],
   "source": [
    "data, full_parameter_dict = hddm.simulators.hddm_dataset_generators.simulator_h_c(n_subjects = n_subjects,\n",
    "                                                                                  n_trials_per_subject = n_trials_per_subject,\n",
    "                                                                                  model = model,\n",
    "                                                                                  p_outlier = 0.00,\n",
    "                                                                                  conditions = {'c_one': ['low', 'medium', 'high']}, #, 'c_three': ['low', 'medium', 'high']},\n",
    "                                                                                  depends_on = {'v': ['c_one']}, # 'theta': ['c_two']}, # 'theta': ['c_two']}, #regression_models = None, #\n",
    "                                                                                  regression_models = None, #regression_covariates = None,\n",
    "                                                                                  regression_covariates = None, # need this to make initial covariate matrix from which to use dmatrix (patsy)\n",
    "                                                                                  group_only_regressors = False,\n",
    "                                                                                  group_only = None,\n",
    "                                                                                  fixed_at_default = None)\n"
   ]
  },
  {
   "cell_type": "code",
   "execution_count": null,
   "id": "worst-relevance",
   "metadata": {},
   "outputs": [],
   "source": [
    "# Make HDDM Model\n",
    "hddmnn_model = hddm.HDDMnn(data,\n",
    "                           model = model,\n",
    "                           informative = False,\n",
    "                           include = hddm.simulators.model_config[model]['hddm_include'],\n",
    "                           p_outlier = 0.0,\n",
    "                           is_group_model = True,\n",
    "                           depends_on = {'v': 'c_one'})"
   ]
  },
  {
   "cell_type": "code",
   "execution_count": null,
   "id": "adjustable-sterling",
   "metadata": {},
   "outputs": [],
   "source": [
    "hddmnn_model.sample(nmcmc, burn = 100)"
   ]
  },
  {
   "cell_type": "code",
   "execution_count": null,
   "id": "statistical-given",
   "metadata": {
    "scrolled": true
   },
   "outputs": [],
   "source": [
    "# Caterpillar Plot: (Parameters recovered ok?)\n",
    "hddm.plotting.plot_caterpillar(hddm_model = hddmnn_model,\n",
    "                               ground_truth_parameter_dict = full_parameter_dict,\n",
    "                               figsize = (8, 8),\n",
    "                               columns = 3)\n",
    "\n",
    "plt.show()"
   ]
  },
  {
   "cell_type": "code",
   "execution_count": null,
   "id": "bibliographic-cherry",
   "metadata": {
    "scrolled": true
   },
   "outputs": [],
   "source": [
    "hddm.plotting.plot_posterior_predictive(model = hddmnn_model,\n",
    "                                        columns = 2, # groupby = ['subj_idx'],\n",
    "                                        figsize = (8, 6),\n",
    "                                        value_range = np.arange(1, 2.5, 0.1),\n",
    "                                        plot_func = hddm.plotting._plot_func_model,\n",
    "                                        parameter_recovery_mode = True,\n",
    "                                        **{'alpha': 0.01,\n",
    "                                        'ylim': 3,\n",
    "                                        'add_posterior_uncertainty_rts': True,\n",
    "                                        'add_posterior_uncertainty_model': True,\n",
    "                                        'samples': 200,\n",
    "                                        'legend_fontsize': 7})\n",
    "plt.show()"
   ]
  },
  {
   "cell_type": "markdown",
   "id": "advanced-dining",
   "metadata": {},
   "source": [
    "## Section 5: Regressors\n",
    "This section provides a simple working example using the Neural Networks with the Regression backend. The regression back-end allows linking parameters to trial-by-trial covariates via a (general) linear model."
   ]
  },
  {
   "cell_type": "code",
   "execution_count": null,
   "id": "accompanied-administrator",
   "metadata": {},
   "outputs": [],
   "source": [
    "# Metadata\n",
    "nmcmc = 200\n",
    "model = 'angle'\n",
    "n_samples_by_subject = 500"
   ]
  },
  {
   "cell_type": "code",
   "execution_count": null,
   "id": "accompanied-leisure",
   "metadata": {},
   "outputs": [],
   "source": [
    "data, full_parameter_dict = hddm.simulators.hddm_dataset_generators.simulator_h_c(n_subjects = 3,\n",
    "                                                                                  n_samples_by_subject = n_samples_by_subject,\n",
    "                                                                                  model = model,\n",
    "                                                                                  p_outlier = 0.00,\n",
    "                                                                                  conditions = None,\n",
    "                                                                                  depends_on = None,\n",
    "                                                                                  regression_models = ['t ~ 1 + covariate_name', 'v ~ 1 + covariate_name'],\n",
    "                                                                                  regression_covariates = {'covariate_name': {'type': 'continuous', 'range': (0, 1)}},\n",
    "                                                                                  group_only_regressors = False,\n",
    "                                                                                  group_only = None,\n",
    "                                                                                  fixed_at_default = None)\n"
   ]
  },
  {
   "cell_type": "code",
   "execution_count": null,
   "id": "advisory-minutes",
   "metadata": {},
   "outputs": [],
   "source": [
    "# Set up the regressor a regressor:\n",
    "reg_model_v = {'model': 'v ~ 1 + covariate_name', 'link_func': lambda x: x}\n",
    "reg_model_t = {'model': 't ~ 1 + covariate_name', 'link_func': lambda x: x}\n",
    "reg_descr = [reg_model_t, reg_model_v]\n"
   ]
  },
  {
   "cell_type": "code",
   "execution_count": null,
   "id": "cathedral-louis",
   "metadata": {},
   "outputs": [],
   "source": [
    "# Make HDDM model\n",
    "hddmnn_reg = hddm.HDDMnnRegressor(data,\n",
    "                                  reg_descr,\n",
    "                                  include = hddm.simulators.model_config[model]['hddm_include'],\n",
    "                                  model = model,\n",
    "                                  informative = False,\n",
    "                                  p_outlier = 0.0)"
   ]
  },
  {
   "cell_type": "code",
   "execution_count": null,
   "id": "conscious-disposal",
   "metadata": {},
   "outputs": [],
   "source": [
    "# Sample\n",
    "hddmnn_reg.sample(nmcmc, burn = 100)"
   ]
  },
  {
   "cell_type": "code",
   "execution_count": null,
   "id": "executive-hands",
   "metadata": {},
   "outputs": [],
   "source": [
    "# Caterpillar Plot: (Parameters recovered ok?)\n",
    "hddm.plotting.plot_caterpillar(hddm_model = hddmnn_reg,\n",
    "                               ground_truth_parameter_dict = full_parameter_dict,\n",
    "                               figsize = (8, 8),\n",
    "                               columns = 3)\n",
    "\n",
    "plt.show()"
   ]
  },
  {
   "cell_type": "markdown",
   "id": "attached-sharing",
   "metadata": {},
   "source": [
    "## Section 6: Stim Coding"
   ]
  },
  {
   "cell_type": "code",
   "execution_count": null,
   "id": "unauthorized-wallace",
   "metadata": {},
   "outputs": [],
   "source": [
    "# Metadata\n",
    "nmcmc = 300\n",
    "model = 'ddm'\n",
    "n_samples_by_condition = 500\n",
    "split_param = 'v'"
   ]
  },
  {
   "cell_type": "code",
   "execution_count": null,
   "id": "funded-parent",
   "metadata": {},
   "outputs": [],
   "source": [
    "sim_data_stimcoding, parameter_dict = hddm.simulators.simulator_stimcoding(model = model,\n",
    "                                                                           split_by = split_param,\n",
    "                                                                           drift_criterion = 0.3,\n",
    "                                                                           n_trials_per_condition = 500)"
   ]
  },
  {
   "cell_type": "code",
   "execution_count": null,
   "id": "competent-technician",
   "metadata": {
    "scrolled": true
   },
   "outputs": [],
   "source": [
    "sim_data_stimcoding"
   ]
  },
  {
   "cell_type": "code",
   "execution_count": null,
   "id": "overhead-desert",
   "metadata": {
    "scrolled": true
   },
   "outputs": [],
   "source": [
    "parameter_dict"
   ]
  },
  {
   "cell_type": "code",
   "execution_count": null,
   "id": "several-problem",
   "metadata": {},
   "outputs": [],
   "source": [
    "hddmnn_model = hddm.HDDMnnStimCoding(sim_data_stimcoding,\n",
    "                                     include = hddm.simulators.model_config[model]['hddm_include'],\n",
    "                                     model = model,\n",
    "                                     stim_col = 'stim',\n",
    "                                     p_outlier = 0.0,\n",
    "                                     split_param = split_param,\n",
    "                                     informative = False,\n",
    "                                     drift_criterion = True)"
   ]
  },
  {
   "cell_type": "code",
   "execution_count": null,
   "id": "heard-numbers",
   "metadata": {
    "scrolled": true
   },
   "outputs": [],
   "source": [
    "hddmnn_model.sample(nmcmc, burn = 100)"
   ]
  },
  {
   "cell_type": "code",
   "execution_count": null,
   "id": "favorite-dollar",
   "metadata": {},
   "outputs": [],
   "source": [
    "hddmnn_model.gen_stats()"
   ]
  },
  {
   "cell_type": "code",
   "execution_count": null,
   "id": "enclosed-sentence",
   "metadata": {},
   "outputs": [],
   "source": [
    "# Caterpillar Plot: (Parameters recovered ok?)\n",
    "hddm.plotting.plot_caterpillar(hddm_model = hddmnn_model,\n",
    "                               ground_truth_parameter_dict = parameter_dict,\n",
    "                               figsize = (8, 5),\n",
    "                               columns = 3)\n",
    "\n",
    "plt.show()"
   ]
  },
  {
   "cell_type": "markdown",
   "id": "juvenile-product",
   "metadata": {},
   "source": [
    "## Section 7: Model Recovery"
   ]
  },
  {
   "cell_type": "code",
   "execution_count": null,
   "id": "comparable-explosion",
   "metadata": {},
   "outputs": [],
   "source": [
    "# Metadata\n",
    "model = 'weibull'\n",
    "n_samples = 300"
   ]
  },
  {
   "cell_type": "code",
   "execution_count": null,
   "id": "attempted-light",
   "metadata": {},
   "outputs": [],
   "source": [
    "# test regressors only False\n",
    "# add p_outliers to the generator !\n",
    "data, full_parameter_dict = hddm.simulators.hddm_dataset_generators.simulator_h_c(n_subjects = 1,\n",
    "                                                                                  n_samples_by_subject = n_samples,\n",
    "                                                                                  model = model,\n",
    "                                                                                  p_outlier = 0.00,\n",
    "                                                                                  conditions = None,\n",
    "                                                                                  depends_on = None,\n",
    "                                                                                  regression_models = None,\n",
    "                                                                                  regression_covariates = None,\n",
    "                                                                                  group_only_regressors = False,\n",
    "                                                                                  group_only = None,\n",
    "                                                                                  fixed_at_default = None)\n"
   ]
  },
  {
   "cell_type": "code",
   "execution_count": null,
   "id": "civilian-compact",
   "metadata": {
    "scrolled": true
   },
   "outputs": [],
   "source": [
    "data"
   ]
  },
  {
   "cell_type": "code",
   "execution_count": null,
   "id": "unavailable-indication",
   "metadata": {},
   "outputs": [],
   "source": [
    "# Now we fit for each model:\n",
    "hddmnn_model_weibull = hddm.HDDMnn(data,\n",
    "                                   informative = False,\n",
    "                                   model = 'weibull',\n",
    "                                   p_outlier = 0.0,\n",
    "                                   include = hddm.simulators.model_config['weibull_cdf']['hddm_include'],\n",
    "                                   is_group_model = False)\n",
    "\n",
    "hddmnn_model_angle = hddm.HDDMnn(data,\n",
    "                                 model = 'angle',\n",
    "                                 informative = False,\n",
    "                                 p_outlier = 0.0,\n",
    "                                 include = hddm.simulators.model_config['angle']['hddm_include'],\n",
    "                                 is_group_model = False)\n",
    "\n",
    "hddmnn_model_ddm = hddm.HDDMnn(data,\n",
    "                               informative = False,\n",
    "                               model = 'ddm',\n",
    "                               p_outlier = 0.0,\n",
    "                               include = hddm.simulators.model_config['ddm']['hddm_include'],\n",
    "                               is_group_model = False)"
   ]
  },
  {
   "cell_type": "code",
   "execution_count": null,
   "id": "duplicate-crazy",
   "metadata": {},
   "outputs": [],
   "source": [
    "nmcmc = 1000\n",
    "hddmnn_model_weibull.sample(nmcmc,\n",
    "                            burn = 200)\n",
    "\n",
    "hddmnn_model_angle.sample(nmcmc,\n",
    "                          burn = 200)\n",
    "\n",
    "hddmnn_model_ddm.sample(nmcmc,\n",
    "                        burn = 200)"
   ]
  },
  {
   "cell_type": "markdown",
   "id": "lovely-confidentiality",
   "metadata": {},
   "source": [
    "### 7.1 Checking Model Fits Visually\n",
    "Posterior Predictive: Do the ‘Posterior Models’ also make sense?"
   ]
  },
  {
   "cell_type": "code",
   "execution_count": null,
   "id": "expressed-woman",
   "metadata": {},
   "outputs": [],
   "source": [
    "# WEIBULL\n",
    "hddm.plotting.plot_posterior_predictive(model = hddmnn_model_weibull,\n",
    "                                        columns = 1,\n",
    "                                        groupby = ['subj_idx'],\n",
    "                                        figsize = (4, 4),\n",
    "                                        value_range = np.arange(0, 5, 0.1),\n",
    "                                        plot_func = hddm.plotting._plot_func_model,\n",
    "                                        parameter_recovery_mode = True,\n",
    "                                        **{'alpha': 0.01,\n",
    "                                        'ylim': 3,\n",
    "                                        'add_posterior_uncertainty_model': True,\n",
    "                                        'add_posterior_uncertainty_rts': False,\n",
    "                                        'add_posterior_mean_rts': True,\n",
    "                                        'samples': 200})\n",
    "plt.show()"
   ]
  },
  {
   "cell_type": "code",
   "execution_count": null,
   "id": "logical-transcription",
   "metadata": {},
   "outputs": [],
   "source": [
    "# ANGLE\n",
    "hddm.plotting.plot_posterior_predictive(model = hddmnn_model_angle,\n",
    "                                        columns = 1,\n",
    "                                        groupby = ['subj_idx'],\n",
    "                                        figsize = (4, 4),\n",
    "                                        value_range = np.arange(0, 5, 0.1),\n",
    "                                        plot_func = hddm.plotting._plot_func_model,\n",
    "                                        parameter_recovery_mode = False,\n",
    "                                        **{'alpha': 0.01,\n",
    "                                        'ylim': 3,\n",
    "                                        'add_posterior_uncertainty_model': True,\n",
    "                                        'add_posterior_uncertainty_rts': False,\n",
    "                                        'add_posterior_mean_rts': True,\n",
    "                                        'samples': 200})\n",
    "plt.show()"
   ]
  },
  {
   "cell_type": "code",
   "execution_count": null,
   "id": "sealed-matter",
   "metadata": {},
   "outputs": [],
   "source": [
    "# DDM\n",
    "hddm.plotting.plot_posterior_predictive(model = hddmnn_model_ddm,\n",
    "                                        columns = 1,\n",
    "                                        groupby = ['subj_idx'],\n",
    "                                        figsize = (4, 4),\n",
    "                                        value_range = np.arange(0, 5, 0.1),\n",
    "                                        plot_func = hddm.plotting._plot_func_model,\n",
    "                                        parameter_recovery_mode = False,\n",
    "                                        **{'alpha': 0.01,\n",
    "                                        'ylim': 3,\n",
    "                                        'add_posterior_uncertainty_model': True,\n",
    "                                        'add_posterior_uncertainty_rts': False,\n",
    "                                        'add_posterior_mean_rts': True,\n",
    "                                        'samples': 200})\n",
    "plt.show()\n"
   ]
  },
  {
   "cell_type": "markdown",
   "id": "annoying-chicago",
   "metadata": {},
   "source": [
    "### 7.2 Comparing DIC’s"
   ]
  },
  {
   "cell_type": "code",
   "execution_count": null,
   "id": "welcome-bradley",
   "metadata": {},
   "outputs": [],
   "source": [
    "hddmnn_model_weibull.dic"
   ]
  },
  {
   "cell_type": "code",
   "execution_count": null,
   "id": "stone-understanding",
   "metadata": {},
   "outputs": [],
   "source": [
    "hddmnn_model_angle.dic"
   ]
  },
  {
   "cell_type": "code",
   "execution_count": null,
   "id": "altered-motel",
   "metadata": {},
   "outputs": [],
   "source": [
    "hddmnn_model_ddm.dic"
   ]
  },
  {
   "cell_type": "markdown",
   "id": "attempted-trick",
   "metadata": {},
   "source": [
    "## Section 8: Real Data!"
   ]
  },
  {
   "cell_type": "code",
   "execution_count": null,
   "id": "thrown-recorder",
   "metadata": {},
   "outputs": [],
   "source": [
    "# Metadata\n",
    "nmcmc = 1000\n",
    "burn = 500\n",
    "model = 'angle'"
   ]
  },
  {
   "cell_type": "markdown",
   "id": "hairy-vintage",
   "metadata": {},
   "source": [
    "### 8.1 Load and Pre-process dataset"
   ]
  },
  {
   "cell_type": "code",
   "execution_count": null,
   "id": "cellular-stamp",
   "metadata": {},
   "outputs": [],
   "source": [
    "# Load one of the datasets shipping with HDDM\n",
    "cav_data = hddm.load_csv(hddm.__path__[0] + '/examples/cavanagh_theta_nn.csv')"
   ]
  },
  {
   "cell_type": "code",
   "execution_count": null,
   "id": "considerable-direction",
   "metadata": {},
   "outputs": [],
   "source": [
    "cav_data"
   ]
  },
  {
   "cell_type": "markdown",
   "id": "accepted-decimal",
   "metadata": {},
   "source": [
    "### 8.2 Basic Condition Split Model"
   ]
  },
  {
   "cell_type": "code",
   "execution_count": null,
   "id": "blond-galaxy",
   "metadata": {},
   "outputs": [],
   "source": [
    "hddmnn_model_cav = hddm.HDDMnn(cav_data,\n",
    "                               model = model,\n",
    "                               informative = False,\n",
    "                               include = hddm.simulators.model_config[model]['hddm_include'],\n",
    "                               p_outlier = 0.05,\n",
    "                               is_group_model = False,\n",
    "                               depends_on = {'v': 'stim'})"
   ]
  },
  {
   "cell_type": "code",
   "execution_count": null,
   "id": "approved-purpose",
   "metadata": {
    "scrolled": false
   },
   "outputs": [],
   "source": [
    "hddmnn_model_cav.sample(nmcmc, burn = burn)"
   ]
  },
  {
   "cell_type": "code",
   "execution_count": null,
   "id": "emotional-carolina",
   "metadata": {
    "scrolled": true
   },
   "outputs": [],
   "source": [
    "hddm.plotting.plot_posterior_predictive(model = hddmnn_model_cav,\n",
    "                                        columns = 1,\n",
    "                                        figsize = (4, 4),\n",
    "                                        value_range = np.arange(0, 5, 0.1),\n",
    "                                        plot_func = hddm.plotting._plot_func_model,\n",
    "                                        parameter_recovery_mode = False,\n",
    "                                        **{'alpha': 0.01,\n",
    "                                        'ylim': 3,\n",
    "                                        'add_posterior_uncertainty_model': True,\n",
    "                                        'add_posterior_uncertainty_rts': False,\n",
    "                                        'add_posterior_mean_rts': True,\n",
    "                                        'samples': 200})\n",
    "plt.show()"
   ]
  },
  {
   "cell_type": "markdown",
   "id": "amber-conducting",
   "metadata": {},
   "source": [
    "### 8.3 Basic Hierarchical Model"
   ]
  },
  {
   "cell_type": "code",
   "execution_count": null,
   "id": "hungry-alaska",
   "metadata": {},
   "outputs": [],
   "source": [
    "hddmnn_model_cav = hddm.HDDMnn(cav_data,\n",
    "                               model = model,\n",
    "                               informative = False,\n",
    "                               include = hddm.simulators.model_config[model]['hddm_include'],\n",
    "                               is_group_model = True,\n",
    "                               p_outlier = 0.05)"
   ]
  },
  {
   "cell_type": "code",
   "execution_count": null,
   "id": "meaning-tutorial",
   "metadata": {},
   "outputs": [],
   "source": [
    "hddmnn_model_cav.sample(nmcmc, burn = burn)"
   ]
  },
  {
   "cell_type": "code",
   "execution_count": null,
   "id": "southern-macedonia",
   "metadata": {},
   "outputs": [],
   "source": [
    "# Caterpillar Plot: (Parameters recovered ok?)\n",
    "hddm.plotting.plot_caterpillar(hddm_model = hddmnn_model_cav,\n",
    "                               figsize = (8, 8),\n",
    "                               columns = 3)\n",
    "\n",
    "plt.show()"
   ]
  },
  {
   "cell_type": "code",
   "execution_count": null,
   "id": "cosmetic-tuition",
   "metadata": {},
   "outputs": [],
   "source": [
    "hddm.plotting.plot_posterior_predictive(model = hddmnn_model_cav,\n",
    "                                        columns = 3,\n",
    "                                        figsize = (10, 10),\n",
    "                                        value_range = np.arange(0, 5, 0.1),\n",
    "                                        plot_func = hddm.plotting._plot_func_model,\n",
    "                                        parameter_recovery_mode = False,\n",
    "                                        **{'alpha': 0.01,\n",
    "                                        'ylim': 3,\n",
    "                                        'add_posterior_uncertainty_model': True,\n",
    "                                        'add_posterior_uncertainty_rts': False,\n",
    "                                        'add_posterior_mean_rts': True,\n",
    "                                        'samples': 200,\n",
    "                                        'legend_fontsize': 7,\n",
    "                                        'subplots_adjust': {'top': 0.9, 'hspace': 0.3, 'wspace': 0.3}})\n",
    "plt.show()"
   ]
  },
  {
   "cell_type": "markdown",
   "id": "ignored-maryland",
   "metadata": {},
   "source": [
    "### Note\n",
    "This is just an example. The angle model might not be the best choice here, and we are moreover ignoring the supplied conditions."
   ]
  },
  {
   "cell_type": "markdown",
   "id": "static-retrieval",
   "metadata": {},
   "source": [
    "## Section 9: Accessing the Neural Network Directly"
   ]
  },
  {
   "cell_type": "markdown",
   "id": "listed-metadata",
   "metadata": {},
   "source": [
    "### 9.1 Direct access to batch predictions"
   ]
  },
  {
   "cell_type": "code",
   "execution_count": null,
   "id": "norwegian-april",
   "metadata": {},
   "outputs": [],
   "source": [
    "model = 'angle'"
   ]
  },
  {
   "cell_type": "code",
   "execution_count": null,
   "id": "promotional-snake",
   "metadata": {},
   "outputs": [],
   "source": [
    "lan_angle = hddm.network_inspectors.get_torch_mlp(model = model)"
   ]
  },
  {
   "cell_type": "markdown",
   "id": "checked-gilbert",
   "metadata": {},
   "source": [
    "Let’s predict some likelihoods !"
   ]
  },
  {
   "cell_type": "code",
   "execution_count": null,
   "id": "introductory-metadata",
   "metadata": {},
   "outputs": [],
   "source": [
    "# Make some random parameter set\n",
    "parameter_df = hddm.simulators.make_parameter_vectors_nn(model = model,\n",
    "                                                         param_dict = None,\n",
    "                                                         n_parameter_vectors = 1)\n",
    "parameter_matrix = np.tile(np.squeeze(parameter_df.values), (200, 1))\n",
    "\n",
    "# Initialize network input\n",
    "network_input = np.zeros((parameter_matrix.shape[0], parameter_matrix.shape[1] + 2)) # Note the + 2 on the right --> we append the parameter vectors with reaction times (+1 columns) and choices (+1 columns)\n",
    "\n",
    "# Add reaction times\n",
    "network_input[:, -2] = np.linspace(0, 3, parameter_matrix.shape[0])\n",
    "\n",
    "# Add choices\n",
    "network_input[:, -1] = np.repeat(np.random.choice([-1, 1]), parameter_matrix.shape[0])\n",
    "\n",
    "# Convert to float\n",
    "network_input = network_input.astype(np.float32)\n",
    "# Show example output\n",
    "print(lan_angle(network_input)[:10]) # printing the first 10 outputs\n",
    "print(lan_angle(network_input).shape) # original shape of output"
   ]
  },
  {
   "cell_type": "markdown",
   "id": "going-service",
   "metadata": {},
   "source": [
    "### 9.2 Plotting Utilities\n",
    "\n",
    "HDDM provides two plotting function to investigate the network outputs directly. The `kde_vs_lan_likelihoods()` plot and the `lan_manifold()` plot."
   ]
  },
  {
   "cell_type": "markdown",
   "id": "faced-triumph",
   "metadata": {},
   "source": [
    "#### 9.2.1 `kde_vs_lan_likelihoods()`\n",
    "The `kde_vs_lan_likelihoods()` plot allows you to check the likelihoods produced by a LAN against Kernel Density Estimates (KDEs) from model simulations. You can supply a panda `DataFrame` that holds parameter vectors as rows."
   ]
  },
  {
   "cell_type": "code",
   "execution_count": null,
   "id": "supported-albany",
   "metadata": {},
   "outputs": [],
   "source": [
    "# Make some parameters\n",
    "parameter_df = hddm.simulators.make_parameter_vectors_nn(model = model,\n",
    "                                                         param_dict = None,\n",
    "                                                         n_parameter_vectors = 10)\n"
   ]
  },
  {
   "cell_type": "code",
   "execution_count": null,
   "id": "junior-still",
   "metadata": {},
   "outputs": [],
   "source": [
    "parameter_df"
   ]
  },
  {
   "cell_type": "code",
   "execution_count": null,
   "id": "alternate-oakland",
   "metadata": {},
   "outputs": [],
   "source": [
    "hddm.network_inspectors.kde_vs_lan_likelihoods(parameter_df = parameter_df,\n",
    "                                               model = model,\n",
    "                                               cols = 3,\n",
    "                                               n_samples = 2000,\n",
    "                                               n_reps = 10,\n",
    "                                               show = True)"
   ]
  },
  {
   "cell_type": "markdown",
   "id": "contemporary-helping",
   "metadata": {},
   "source": [
    "#### 9.2.2 `lan_manifold()`"
   ]
  },
  {
   "cell_type": "code",
   "execution_count": null,
   "id": "regulated-renewal",
   "metadata": {},
   "outputs": [],
   "source": [
    "# Make some parameters\n",
    "parameter_df = hddm.simulators.make_parameter_vectors_nn(model = model,\n",
    "                                                         param_dict = None,\n",
    "                                                         n_parameter_vectors = 1)\n"
   ]
  },
  {
   "cell_type": "code",
   "execution_count": null,
   "id": "introductory-overhead",
   "metadata": {},
   "outputs": [],
   "source": [
    "parameter_df"
   ]
  },
  {
   "cell_type": "code",
   "execution_count": null,
   "id": "durable-norwegian",
   "metadata": {},
   "outputs": [],
   "source": [
    "# Now plotting\n",
    "hddm.network_inspectors.lan_manifold(parameter_df = parameter_df,\n",
    "                                     vary_dict = {'v': np.linspace(-2, 2, 20)},\n",
    "                                     model = model,\n",
    "                                     n_rt_steps = 300,\n",
    "                                     fig_scale = 1.0,\n",
    "                                     max_rt = 5,\n",
    "                                     save = True,\n",
    "                                     show = True)\n"
   ]
  }
 ],
 "metadata": {
  "kernelspec": {
   "display_name": "Python 3",
   "language": "python",
   "name": "python3"
  },
  "language_info": {
   "codemirror_mode": {
    "name": "ipython",
    "version": 3
   },
   "file_extension": ".py",
   "mimetype": "text/x-python",
   "name": "python",
   "nbconvert_exporter": "python",
   "pygments_lexer": "ipython3",
   "version": "3.8.8"
  }
 },
 "nbformat": 4,
 "nbformat_minor": 5
}
