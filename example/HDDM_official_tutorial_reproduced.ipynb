{
 "cells": [
  {
   "cell_type": "markdown",
   "metadata": {},
   "source": [
    "This script reproduces the [official tutorial of HDDM](http://ski.clps.brown.edu/hddm_docs/tutorial_python.html) by the HDDM (0.9.0) in this docker image."
   ]
  },
  {
   "cell_type": "code",
   "execution_count": 1,
   "metadata": {},
   "outputs": [],
   "source": [
    "import pandas as pd\n",
    "import matplotlib.pyplot as plt"
   ]
  },
  {
   "cell_type": "code",
   "execution_count": 2,
   "metadata": {},
   "outputs": [
    {
     "name": "stdout",
     "output_type": "stream",
     "text": [
      "0.9.0\n"
     ]
    }
   ],
   "source": [
    "%matplotlib inline\n",
    "import hddm\n",
    "import kabuki\n",
    "print(hddm.__version__)"
   ]
  },
  {
   "cell_type": "markdown",
   "metadata": {},
   "source": [
    "## Loading data"
   ]
  },
  {
   "cell_type": "code",
   "execution_count": 3,
   "metadata": {
    "scrolled": false
   },
   "outputs": [
    {
     "name": "stdout",
     "output_type": "stream",
     "text": [
      "/opt/conda/lib/python3.8/site-packages/hddm/__init__.py\n"
     ]
    }
   ],
   "source": [
    "# find the directory of \"cavanagh_theta_nn.csv\"\n",
    "print(hddm.__file__)"
   ]
  },
  {
   "cell_type": "code",
   "execution_count": 4,
   "metadata": {
    "scrolled": false
   },
   "outputs": [
    {
     "name": "stdout",
     "output_type": "stream",
     "text": [
      "subj_idx,stim,rt,response,theta,dbs,conf\r\n",
      "0,LL,1.21,1.0,0.65627512226100004,1,HC\r\n",
      "0,WL,1.6299999999999999,1.0,-0.32788867166199998,1,LC\r\n",
      "0,WW,1.03,1.0,-0.480284512399,1,HC\r\n",
      "0,WL,2.77,1.0,1.9274273452399999,1,LC\r\n",
      "0,WW,1.1399999999999999,0.0,-0.21323572605999999,1,HC\r\n",
      "0,WL,1.1499999999999999,1.0,-0.43620365940099998,1,LC\r\n",
      "0,LL,2.0,1.0,-0.27447891439400002,1,HC\r\n",
      "0,WL,1.04,0.0,0.66695707371400004,1,LC\r\n",
      "0,WW,0.85699999999999998,1.0,0.11861689909799999,1,HC\r\n"
     ]
    }
   ],
   "source": [
    "!head /opt/conda/lib/python3.8/site-packages/hddm/examples/cavanagh_theta_nn.csv"
   ]
  },
  {
   "cell_type": "code",
   "execution_count": 5,
   "metadata": {
    "scrolled": true
   },
   "outputs": [
    {
     "data": {
      "text/html": [
       "<div>\n",
       "<style scoped>\n",
       "    .dataframe tbody tr th:only-of-type {\n",
       "        vertical-align: middle;\n",
       "    }\n",
       "\n",
       "    .dataframe tbody tr th {\n",
       "        vertical-align: top;\n",
       "    }\n",
       "\n",
       "    .dataframe thead th {\n",
       "        text-align: right;\n",
       "    }\n",
       "</style>\n",
       "<table border=\"1\" class=\"dataframe\">\n",
       "  <thead>\n",
       "    <tr style=\"text-align: right;\">\n",
       "      <th></th>\n",
       "      <th>subj_idx</th>\n",
       "      <th>stim</th>\n",
       "      <th>rt</th>\n",
       "      <th>response</th>\n",
       "      <th>theta</th>\n",
       "      <th>dbs</th>\n",
       "      <th>conf</th>\n",
       "    </tr>\n",
       "  </thead>\n",
       "  <tbody>\n",
       "    <tr>\n",
       "      <th>0</th>\n",
       "      <td>0</td>\n",
       "      <td>LL</td>\n",
       "      <td>1.21</td>\n",
       "      <td>1.0</td>\n",
       "      <td>0.656275</td>\n",
       "      <td>1</td>\n",
       "      <td>HC</td>\n",
       "    </tr>\n",
       "    <tr>\n",
       "      <th>1</th>\n",
       "      <td>0</td>\n",
       "      <td>WL</td>\n",
       "      <td>1.63</td>\n",
       "      <td>1.0</td>\n",
       "      <td>-0.327889</td>\n",
       "      <td>1</td>\n",
       "      <td>LC</td>\n",
       "    </tr>\n",
       "    <tr>\n",
       "      <th>2</th>\n",
       "      <td>0</td>\n",
       "      <td>WW</td>\n",
       "      <td>1.03</td>\n",
       "      <td>1.0</td>\n",
       "      <td>-0.480285</td>\n",
       "      <td>1</td>\n",
       "      <td>HC</td>\n",
       "    </tr>\n",
       "    <tr>\n",
       "      <th>3</th>\n",
       "      <td>0</td>\n",
       "      <td>WL</td>\n",
       "      <td>2.77</td>\n",
       "      <td>1.0</td>\n",
       "      <td>1.927427</td>\n",
       "      <td>1</td>\n",
       "      <td>LC</td>\n",
       "    </tr>\n",
       "    <tr>\n",
       "      <th>4</th>\n",
       "      <td>0</td>\n",
       "      <td>WW</td>\n",
       "      <td>1.14</td>\n",
       "      <td>0.0</td>\n",
       "      <td>-0.213236</td>\n",
       "      <td>1</td>\n",
       "      <td>HC</td>\n",
       "    </tr>\n",
       "  </tbody>\n",
       "</table>\n",
       "</div>"
      ],
      "text/plain": [
       "   subj_idx stim    rt  response     theta  dbs conf\n",
       "0         0   LL  1.21       1.0  0.656275    1   HC\n",
       "1         0   WL  1.63       1.0 -0.327889    1   LC\n",
       "2         0   WW  1.03       1.0 -0.480285    1   HC\n",
       "3         0   WL  2.77       1.0  1.927427    1   LC\n",
       "4         0   WW  1.14       0.0 -0.213236    1   HC"
      ]
     },
     "execution_count": 5,
     "metadata": {},
     "output_type": "execute_result"
    }
   ],
   "source": [
    "data = hddm.load_csv('/opt/conda/lib/python3.8/site-packages/hddm/examples/cavanagh_theta_nn.csv')\n",
    "data.head()"
   ]
  },
  {
   "cell_type": "code",
   "execution_count": 6,
   "metadata": {
    "scrolled": true
   },
   "outputs": [
    {
     "data": {
      "image/png": "[encoded data removed]",
      "text/plain": [
       "<Figure size 432x288 with 1 Axes>"
      ]
     },
     "metadata": {
      "needs_background": "light"
     },
     "output_type": "display_data"
    }
   ],
   "source": [
    "data = hddm.utils.flip_errors(data)\n",
    "\n",
    "fig = plt.figure()\n",
    "ax = fig.add_subplot(111, xlabel='RT', ylabel='count', title='RT distributions')\n",
    "for i, subj_data in data.groupby('subj_idx'):\n",
    "    subj_data.rt.hist(bins=20, histtype='step', ax=ax)\n",
    "\n",
    "# plt.savefig('hddm_demo_fig_00.pdf')"
   ]
  },
  {
   "cell_type": "markdown",
   "metadata": {},
   "source": [
    "Check number of trials of each condition for each participant."
   ]
  },
  {
   "cell_type": "code",
   "execution_count": 7,
   "metadata": {
    "scrolled": true
   },
   "outputs": [
    {
     "data": {
      "text/plain": [
       "subj_idx  stim\n",
       "0         LL       73\n",
       "          WL      151\n",
       "          WW       74\n",
       "1         LL       74\n",
       "          WL      153\n",
       "          WW       71\n",
       "2         LL       73\n",
       "          WL      147\n",
       "          WW       73\n",
       "3         LL       62\n",
       "          WL      129\n",
       "          WW       64\n",
       "4         LL       70\n",
       "          WL      144\n",
       "          WW       69\n",
       "5         LL       77\n",
       "          WL      155\n",
       "          WW       71\n",
       "6         LL       73\n",
       "          WL      154\n",
       "          WW       72\n",
       "7         LL       77\n",
       "          WL      142\n",
       "          WW       75\n",
       "8         LL       74\n",
       "          WL      148\n",
       "          WW       71\n",
       "9         LL       53\n",
       "          WL      110\n",
       "          WW       54\n",
       "10        LL       76\n",
       "          WL      157\n",
       "          WW       76\n",
       "11        LL       73\n",
       "          WL      153\n",
       "          WW       79\n",
       "12        LL       61\n",
       "          WL      138\n",
       "          WW       68\n",
       "13        LL       68\n",
       "          WL      135\n",
       "          WW       71\n",
       "dtype: int64"
      ]
     },
     "execution_count": 7,
     "metadata": {},
     "output_type": "execute_result"
    }
   ],
   "source": [
    "data.groupby(['subj_idx', 'stim']).size()"
   ]
  },
  {
   "cell_type": "markdown",
   "metadata": {},
   "source": [
    "## Fitting a hierarchical model"
   ]
  },
  {
   "cell_type": "code",
   "execution_count": null,
   "metadata": {},
   "outputs": [
    {
     "name": "stdout",
     "output_type": "stream",
     "text": [
      "No model attribute --> setting up standard HDDM\n",
      "Includes supplied:  ()\n",
      "Set model to ddm\n"
     ]
    },
    {
     "name": "stderr",
     "output_type": "stream",
     "text": [
      "/opt/conda/lib/python3.8/site-packages/scipy/optimize/optimize.py:2215: RuntimeWarning: invalid value encountered in double_scalars\n",
      "  tmp2 = (x - v) * (fx - fw)\n"
     ]
    },
    {
     "name": "stdout",
     "output_type": "stream",
     "text": [
      " [-----------------86%------------      ] 1722 of 2000 complete in 88.6 sec"
     ]
    }
   ],
   "source": [
    "# Instantiate model object passing it our data (no need to call flip_errors() before passing it).\n",
    "# This will tailor an individual hierarchical DDM around your dataset.\n",
    "m1 = hddm.HDDM(data)\n",
    "# find a good starting point which helps with the convergence.\n",
    "m1.find_starting_values()\n",
    "# start drawing 7000 samples and discarding 5000 as burn-in\n",
    "m1.sample(2000, burn=500)"
   ]
  },
  {
   "cell_type": "code",
   "execution_count": null,
   "metadata": {
    "scrolled": true
   },
   "outputs": [],
   "source": [
    "stats = m1.gen_stats()\n",
    "stats[stats.index.isin(['a', 'a_std', 'a_subj.0', 'a_subj.1'])]"
   ]
  },
  {
   "cell_type": "code",
   "execution_count": null,
   "metadata": {
    "scrolled": true
   },
   "outputs": [],
   "source": [
    "m1.plot_posteriors(['a', 't', 'v', 'a_std'])"
   ]
  },
  {
   "cell_type": "markdown",
   "metadata": {},
   "source": [
    "## Calculate Gelman_rubin r hat.\n",
    "\n",
    "The original tutorial used `for` loop:"
   ]
  },
  {
   "cell_type": "code",
   "execution_count": null,
   "metadata": {
    "scrolled": true
   },
   "outputs": [],
   "source": [
    "# models = []\n",
    "# for i in range(5):\n",
    "#     m = hddm.HDDM(data)\n",
    "#     m.find_starting_values()\n",
    "#     m.sample(5000, burn=20)\n",
    "#     models.append(m)\n",
    "\n",
    "# hddm.analyze.gelman_rubin(models)"
   ]
  },
  {
   "cell_type": "markdown",
   "metadata": {},
   "source": [
    "Here, we replace the `for` loop with parallel processing:"
   ]
  },
  {
   "cell_type": "code",
   "execution_count": null,
   "metadata": {},
   "outputs": [],
   "source": [
    "# parallel processing related packages\n",
    "from p_tqdm import p_map\n",
    "from functools import partial"
   ]
  },
  {
   "cell_type": "code",
   "execution_count": null,
   "metadata": {},
   "outputs": [],
   "source": [
    "def ms1(id, data=None, samples=None, burn=None, save_name=\"cavanagh2011_m1\"): \n",
    "\n",
    "    print('running model%i'%id);\n",
    "    \n",
    "    import hddm\n",
    "    \n",
    "    dbname = save_name + '_chain_%i.db'%id \n",
    "    mname  = save_name + '_chain_%i'%id\n",
    "    m = hddm.HDDM(data)\n",
    "    m.find_starting_values()\n",
    "    m.sample(samples, burn=burn, dbname=dbname, db='pickle') # it's neccessary to save the model data\n",
    "    m.save(mname)\n",
    "    \n",
    "    return m"
   ]
  },
  {
   "cell_type": "code",
   "execution_count": null,
   "metadata": {},
   "outputs": [],
   "source": [
    "samples = 5000  # Cavanagh used 30,000 and 10, 000 burn.\n",
    "burn = 1000    \n",
    "thin = 1\n",
    "chains = 4"
   ]
  },
  {
   "cell_type": "code",
   "execution_count": null,
   "metadata": {
    "scrolled": true
   },
   "outputs": [],
   "source": [
    "models_1 = p_map(partial(ms1, data=data, samples=samples, burn=burn),\n",
    "                 range(chains)) # progess bar is a mess ;("
   ]
  },
  {
   "cell_type": "code",
   "execution_count": null,
   "metadata": {
    "scrolled": true
   },
   "outputs": [],
   "source": [
    "hddm.analyze.gelman_rubin(models_1)"
   ]
  },
  {
   "cell_type": "code",
   "execution_count": null,
   "metadata": {
    "scrolled": true
   },
   "outputs": [],
   "source": [
    "models_1[0].plot_posterior_predictive(figsize=(14, 10))"
   ]
  },
  {
   "cell_type": "code",
   "execution_count": null,
   "metadata": {},
   "outputs": [],
   "source": [
    "m_comb = kabuki.utils.concat_models(models_1) # combine four chains together"
   ]
  },
  {
   "cell_type": "code",
   "execution_count": null,
   "metadata": {},
   "outputs": [],
   "source": [
    "m_comb.plot_posterior_predictive(figsize=(14, 10))"
   ]
  },
  {
   "cell_type": "markdown",
   "metadata": {},
   "source": [
    "### Model 2: `v` depends on stimulus\n",
    "\n",
    "The original tutorial used code like this:\n",
    "\n",
    "```\n",
    "m_stim = hddm.HDDM(data, depends_on={'v': 'stim'})\n",
    "m_stim.find_starting_values()\n",
    "m_stim.sample(10000, burn=1000)\n",
    "```\n",
    "\n",
    "Here we defined a function for stimulus coding and used parallel processing"
   ]
  },
  {
   "cell_type": "code",
   "execution_count": null,
   "metadata": {},
   "outputs": [],
   "source": [
    "def ms2(id, data=None, samples=None, burn=None, save_name=\"cavanagh2011_m2\"): \n",
    "\n",
    "    print('running model%i'%id);\n",
    "    \n",
    "    import hddm\n",
    "    \n",
    "    dbname = save_name + '_chain_%i.db'%id \n",
    "    mname  = save_name + '_chain_%i'%id\n",
    "    \n",
    "    m = hddm.HDDM(data, depends_on={'v': 'stim'})\n",
    "    m.find_starting_values()\n",
    "    m.sample(samples, burn=burn, dbname=dbname, db='pickle') # save the model data\n",
    "    m.save(mname)\n",
    "    \n",
    "    return m"
   ]
  },
  {
   "cell_type": "code",
   "execution_count": null,
   "metadata": {
    "scrolled": true
   },
   "outputs": [],
   "source": [
    "# note: the samples, burn, and chains can be changed too\n",
    "models_2 = p_map(partial(ms2, data=data, samples=samples, burn=burn),\n",
    "                 range(chains))"
   ]
  },
  {
   "cell_type": "code",
   "execution_count": null,
   "metadata": {},
   "outputs": [],
   "source": [
    "m_stim_all = kabuki.utils.concat_models(models_2) "
   ]
  },
  {
   "cell_type": "code",
   "execution_count": null,
   "metadata": {},
   "outputs": [],
   "source": [
    "v_WW, v_LL, v_WL = m_stim_all.nodes_db.node[['v(WW)', 'v(LL)', 'v(WL)']]\n",
    "hddm.analyze.plot_posterior_nodes([v_WW, v_LL, v_WL])\n",
    "plt.xlabel('drift-rate')\n",
    "plt.ylabel('Posterior probability')\n",
    "plt.title('Posterior of drift-rate group means')\n",
    "# plt.savefig('hddm_demo_fig_06.pdf')"
   ]
  },
  {
   "cell_type": "code",
   "execution_count": null,
   "metadata": {},
   "outputs": [],
   "source": [
    "print(\"P(WW > LL) = \", (v_WW.trace() > v_LL.trace()).mean())\n",
    "print(\"P(LL > WL) = \", (v_LL.trace() > v_WL.trace()).mean())"
   ]
  },
  {
   "cell_type": "code",
   "execution_count": null,
   "metadata": {},
   "outputs": [],
   "source": [
    "print(\"Lumped model DIC: %f\" % m1.dic)\n",
    "print(\"Stimulus model DIC: %f\" % m_stim_all.dic)"
   ]
  },
  {
   "cell_type": "markdown",
   "metadata": {},
   "source": [
    "## Within-subject effects"
   ]
  },
  {
   "cell_type": "code",
   "execution_count": null,
   "metadata": {
    "scrolled": true
   },
   "outputs": [],
   "source": [
    "from patsy import dmatrix\n",
    "dmatrix(\"C(stim, Treatment('WL'))\", data.head(10))"
   ]
  },
  {
   "cell_type": "markdown",
   "metadata": {},
   "source": [
    "The original code in the tutorial was:\n",
    "\n",
    "```\n",
    "m_within_subj = hddm.HDDMRegressor(data, \"v ~ C(stim, Treatment('WL'))\")\n",
    "m_within_subj.sample(5000, burn=200)\n",
    "```\n",
    "\n",
    "Here we used four chains for parallel processing"
   ]
  },
  {
   "cell_type": "code",
   "execution_count": null,
   "metadata": {},
   "outputs": [],
   "source": [
    "def run_m_reg(id, data=None, samples=None, burn=None, save_name=\"cavanagh2011_reg\"): \n",
    "    \n",
    "    import hddm\n",
    "    \n",
    "    dbname = save_name + '_chain_%i.db'%id \n",
    "    mname  = save_name + '_chain_%i'%id\n",
    "    \n",
    "    m = hddm.HDDMRegressor(data,\n",
    "                           \"v ~ C(stim, Treatment('WL'))\")\n",
    "    m.find_starting_values()\n",
    "    m.sample(samples, burn=burn, dbname=dbname, db='pickle') # it's neccessary to save the model data\n",
    "    m.save(mname)\n",
    "    \n",
    "    return m"
   ]
  },
  {
   "cell_type": "code",
   "execution_count": null,
   "metadata": {
    "scrolled": true
   },
   "outputs": [],
   "source": [
    "m_reg_list = p_map(partial(run_m_reg, data=data, samples=5000, burn=1000),\n",
    "                   range(chains))"
   ]
  },
  {
   "cell_type": "code",
   "execution_count": null,
   "metadata": {},
   "outputs": [],
   "source": [
    "m_reg_all = kabuki.utils.concat_models(m_reg_list) "
   ]
  },
  {
   "cell_type": "code",
   "execution_count": null,
   "metadata": {},
   "outputs": [],
   "source": [
    "v_WL, v_LL, v_WW = m_reg_all.nodes_db.loc[[\"v_Intercept\",\n",
    "                                           \"v_C(stim, Treatment('WL'))[T.LL]\",\n",
    "                                           \"v_C(stim, Treatment('WL'))[T.WW]\"], 'node']\n",
    "hddm.analyze.plot_posterior_nodes([v_WL, v_LL, v_WW])\n",
    "plt.xlabel('drift-rate')\n",
    "plt.ylabel('Posterior probability')\n",
    "plt.title('Group mean posteriors of within-subject drift-rate effects.')\n",
    "# plt.savefig('hddm_demo_fig_07.pdf')"
   ]
  },
  {
   "cell_type": "markdown",
   "metadata": {},
   "source": [
    "## Fitting regression models"
   ]
  },
  {
   "cell_type": "code",
   "execution_count": null,
   "metadata": {},
   "outputs": [],
   "source": [
    "m_reg = hddm.HDDMRegressor(data[data.dbs == 0],\n",
    "                           \"a ~ theta:C(conf, Treatment('LC'))\",\n",
    "                           depends_on={'v': 'stim'})\n",
    "m_reg.sample(5000, burn=1000)"
   ]
  },
  {
   "cell_type": "code",
   "execution_count": null,
   "metadata": {},
   "outputs": [],
   "source": [
    "theta = m_reg.nodes_db.node[\"a_theta:C(conf, Treatment('LC'))[HC]\"]\n",
    "hddm.analyze.plot_posterior_nodes([theta], bins=20)\n",
    "plt.xlabel('Theta coeffecient in ')\n",
    "print(\"P(a_theta < 0) = \", (theta.trace() < 0).mean())"
   ]
  },
  {
   "cell_type": "code",
   "execution_count": null,
   "metadata": {},
   "outputs": [],
   "source": [
    "m_reg_off = hddm.HDDMRegressor(data[data.dbs == 1],\n",
    "                               \"a ~ theta:C(conf, Treatment('LC'))\",\n",
    "                               depends_on={'v': 'stim'})\n",
    "m_reg_off.sample(5000, burn=1000)"
   ]
  },
  {
   "cell_type": "code",
   "execution_count": null,
   "metadata": {},
   "outputs": [],
   "source": [
    "theta = m_reg_off.nodes_db.node[\"a_theta:C(conf, Treatment('LC'))[HC]\"]\n",
    "hddm.analyze.plot_posterior_nodes([theta], bins=10)\n",
    "print(\"P(a_theta > 0) = \", (theta.trace() > 0).mean())"
   ]
  },
  {
   "cell_type": "markdown",
   "metadata": {},
   "source": [
    "## Dealing with outliers\n",
    "\n",
    "This part of the tutorial seems outdated because, since 0.6.0, HDDM has a default setting `p_outliers=.05`. "
   ]
  },
  {
   "cell_type": "code",
   "execution_count": null,
   "metadata": {},
   "outputs": [],
   "source": [
    "outlier_data, params = hddm.generate.gen_rand_data(params={'a': 2, 't': .4, 'v': .5},\n",
    "                                                   size=200, n_fast_outliers=10)"
   ]
  },
  {
   "cell_type": "code",
   "execution_count": null,
   "metadata": {},
   "outputs": [],
   "source": [
    "m_no_outlier = hddm.HDDM(outlier_data)\n",
    "m_no_outlier.sample(2000, burn=50)"
   ]
  },
  {
   "cell_type": "code",
   "execution_count": null,
   "metadata": {},
   "outputs": [],
   "source": [
    "m_no_outlier.plot_posterior_predictive()\n",
    "plt.title('Posterior predictive')\n",
    "plt.xlabel('RT')\n",
    "plt.ylabel('Probability density')\n",
    "# plt.savefig('hddm_demo_fig_10.pdf')"
   ]
  },
  {
   "cell_type": "code",
   "execution_count": null,
   "metadata": {},
   "outputs": [],
   "source": [
    "m_outlier = hddm.HDDM(outlier_data, p_outlier=.05)\n",
    "m_outlier.sample(2000, burn=20)"
   ]
  },
  {
   "cell_type": "code",
   "execution_count": null,
   "metadata": {
    "scrolled": false
   },
   "outputs": [],
   "source": [
    "m_outlier.plot_posterior_predictive()\n",
    "plt.title('Posterior predictive')\n",
    "plt.xlabel('RT')\n",
    "plt.ylabel('Probability density')\n",
    "# plt.savefig('hddm_demo_fig_11.pdf')"
   ]
  }
 ],
 "metadata": {
  "kernelspec": {
   "display_name": "Python 3",
   "language": "python",
   "name": "python3"
  },
  "language_info": {
   "codemirror_mode": {
    "name": "ipython",
    "version": 3
   },
   "file_extension": ".py",
   "mimetype": "text/x-python",
   "name": "python",
   "nbconvert_exporter": "python",
   "pygments_lexer": "ipython3",
   "version": "3.8.8"
  }
 },
 "nbformat": 4,
 "nbformat_minor": 4
}
