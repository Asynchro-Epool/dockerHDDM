{
 "cells": [
  {
   "cell_type": "markdown",
   "id": "9d6a36eb",
   "metadata": {},
   "source": [
    "# Tutorial\n",
    "\n",
    "Here we reproduce the LAN tutorial from official website: https://hddm.readthedocs.io/en/latest/lan_tutorial.html#tutorial\n",
    "\n",
    "\n",
    "Please check the website for details instructions\n"
   ]
  },
  {
   "cell_type": "markdown",
   "id": "b622b4f7",
   "metadata": {},
   "source": [
    "## Section 0: Colab Prep (not neccessary in this docker image)"
   ]
  },
  {
   "cell_type": "markdown",
   "id": "50ee0eb1",
   "metadata": {},
   "source": [
    "### imports"
   ]
  },
  {
   "cell_type": "code",
   "execution_count": 1,
   "id": "f13c8b77",
   "metadata": {},
   "outputs": [],
   "source": [
    "# warning settings\n",
    "import warnings\n",
    "warnings.simplefilter(action='ignore', category=FutureWarning)\n",
    "\n",
    "# Data management\n",
    "import pandas as pd\n",
    "import numpy as np\n",
    "import pickle\n",
    "\n",
    "# Plotting\n",
    "import matplotlib.pyplot as plt\n",
    "import matplotlib\n",
    "import seaborn as sns\n",
    "\n",
    "# Stats functionality\n",
    "from statsmodels.distributions.empirical_distribution import ECDF\n",
    "\n",
    "# HDDM\n",
    "import hddm"
   ]
  },
  {
   "cell_type": "code",
   "execution_count": 2,
   "id": "cc7c9834",
   "metadata": {},
   "outputs": [
    {
     "name": "stdout",
     "output_type": "stream",
     "text": [
      "The current HDDM version is:  0.9.7\n"
     ]
    }
   ],
   "source": [
    "print(\"The current HDDM version is: \", hddm.__version__)"
   ]
  },
  {
   "cell_type": "markdown",
   "id": "31b1db37",
   "metadata": {},
   "source": [
    "## Section 1: Model Info / Simulation / Basic Plotting"
   ]
  },
  {
   "cell_type": "markdown",
   "id": "f26dce10",
   "metadata": {},
   "source": [
    "### 1.1 Access Meta-Data"
   ]
  },
  {
   "cell_type": "code",
   "execution_count": 3,
   "id": "8d41984d",
   "metadata": {
    "scrolled": true
   },
   "outputs": [
    {
     "data": {
      "text/plain": [
       "dict_keys(['ddm_vanilla', 'full_ddm_vanilla', 'ddm', 'angle', 'weibull', 'levy', 'full_ddm', 'ornstein', 'ddm_sdv', 'gamma_drift', 'gamma_drift_angle', 'ds_conflict_drift', 'ds_conflict_drift_angle', 'ddm_par2', 'ddm_par2_no_bias', 'ddm_par2_angle_no_bias', 'ddm_par2_weibull_no_bias', 'ddm_seq2', 'ddm_seq2_no_bias', 'ddm_seq2_angle_no_bias', 'ddm_seq2_weibull_no_bias', 'ddm_mic2_adj', 'ddm_mic2_adj_no_bias', 'ddm_mic2_adj_angle_no_bias', 'ddm_mic2_adj_weibull_no_bias', 'tradeoff_no_bias', 'tradeoff_angle_no_bias', 'tradeoff_weibull_no_bias', 'tradeoff_gamma_conflict_no_bias', 'race_no_bias_3', 'race_no_bias_angle_3', 'race_no_bias_4', 'race_no_bias_angle_4', 'lca_no_bias_3', 'lca_no_bias_angle_3', 'lca_no_bias_4', 'lca_no_bias_angle_4', 'weibull_cdf', 'full_ddm2'])"
      ]
     },
     "execution_count": 3,
     "metadata": {},
     "output_type": "execute_result"
    }
   ],
   "source": [
    "# List the models currently available\n",
    "hddm.model_config.model_config.keys()"
   ]
  },
  {
   "cell_type": "markdown",
   "id": "109781ce",
   "metadata": {},
   "source": [
    "#### NOTE\n",
    "\n",
    "You find two kinds of extra models which were not mentioned in the model listing above:\n",
    "\n",
    "    Experimental models, which eventually will be fully documented (or dropped)\n",
    "\n",
    "    vanilla models are used predominantly with the basic HDDM() classes. These models are not to be used with the HDDMnn() classes.\n",
    "\n",
    "#### Now taking a closer look at the angle model"
   ]
  },
  {
   "cell_type": "code",
   "execution_count": 4,
   "id": "68d34889",
   "metadata": {},
   "outputs": [],
   "source": [
    "# Metadata\n",
    "model = 'ddm'\n",
    "n_samples = 1000"
   ]
  },
  {
   "cell_type": "code",
   "execution_count": 5,
   "id": "4185b93f",
   "metadata": {
    "scrolled": true
   },
   "outputs": [
    {
     "data": {
      "text/plain": [
       "{'doc': 'Basic DDM. Meant for use with the LAN extension. \\nNote that the boundaries here are coded as -a, and a in line with all other models meant for the LAN extension. \\nTo compare model fits between standard HDDM and HDDMnn when using the DDM model, multiply the boundary (a) parameter by 2. \\nWe recommend using standard HDDM if you are interested in the basic DDM, but you might want to use this for testing.',\n",
       " 'params': ['v', 'a', 'z', 't'],\n",
       " 'params_trans': [0, 0, 1, 0],\n",
       " 'params_std_upper': [1.5, 1.0, None, 1.0],\n",
       " 'param_bounds': [[-3.0, 0.3, 0.1, 0.001], [3.0, 2.5, 0.9, 2.0]],\n",
       " 'boundary': <function hddm.simulators.boundary_functions.constant(t=0)>,\n",
       " 'params_default': [0.0, 1.0, 0.5, 0.001],\n",
       " 'hddm_include': ['z'],\n",
       " 'choices': [-1, 1],\n",
       " 'slice_widths': {'v': 1.5,\n",
       "  'v_std': 1,\n",
       "  'a': 1,\n",
       "  'a_std': 1,\n",
       "  'z': 0.1,\n",
       "  'z_trans': 0.2,\n",
       "  't': 0.01,\n",
       "  't_std': 0.15}}"
      ]
     },
     "execution_count": 5,
     "metadata": {},
     "output_type": "execute_result"
    }
   ],
   "source": [
    "# Config for our current model\n",
    "hddm.model_config.model_config[model]"
   ]
  },
  {
   "cell_type": "code",
   "execution_count": 6,
   "id": "a7024c2a",
   "metadata": {
    "scrolled": true
   },
   "outputs": [
    {
     "name": "stdout",
     "output_type": "stream",
     "text": [
      "Basic DDM. Meant for use with the LAN extension. \n",
      "Note that the boundaries here are coded as -a, and a in line with all other models meant for the LAN extension. \n",
      "To compare model fits between standard HDDM and HDDMnn when using the DDM model, multiply the boundary (a) parameter by 2. \n",
      "We recommend using standard HDDM if you are interested in the basic DDM, but you might want to use this for testing.\n"
     ]
    }
   ],
   "source": [
    "# Looking at the doc string before using the model\n",
    "print(hddm.model_config.model_config[model]['doc'])"
   ]
  },
  {
   "cell_type": "markdown",
   "id": "d93f99bc",
   "metadata": {},
   "source": [
    "### 1.2 Generate Data"
   ]
  },
  {
   "cell_type": "code",
   "execution_count": 7,
   "id": "90199ba7",
   "metadata": {},
   "outputs": [
    {
     "name": "stdout",
     "output_type": "stream",
     "text": [
      "new round of data simulation because parameter bounds where violated\n"
     ]
    }
   ],
   "source": [
    "data, full_parameter_dict = hddm.simulators.hddm_dataset_generators.simulator_h_c(n_subjects = 1,\n",
    "                                                                                  n_trials_per_subject = n_samples,\n",
    "                                                                                  model = model,\n",
    "                                                                                  p_outlier = 0.00,\n",
    "                                                                                  conditions = None,\n",
    "                                                                                  depends_on = None,\n",
    "                                                                                  regression_models = None,\n",
    "                                                                                  regression_covariates = None,\n",
    "                                                                                  group_only_regressors = False,\n",
    "                                                                                  group_only = None,\n",
    "                                                                                  fixed_at_default = None)"
   ]
  },
  {
   "cell_type": "code",
   "execution_count": 8,
   "id": "a1bbbb12",
   "metadata": {
    "scrolled": true
   },
   "outputs": [
    {
     "data": {
      "text/html": [
       "<div>\n",
       "<style scoped>\n",
       "    .dataframe tbody tr th:only-of-type {\n",
       "        vertical-align: middle;\n",
       "    }\n",
       "\n",
       "    .dataframe tbody tr th {\n",
       "        vertical-align: top;\n",
       "    }\n",
       "\n",
       "    .dataframe thead th {\n",
       "        text-align: right;\n",
       "    }\n",
       "</style>\n",
       "<table border=\"1\" class=\"dataframe\">\n",
       "  <thead>\n",
       "    <tr style=\"text-align: right;\">\n",
       "      <th></th>\n",
       "      <th>rt</th>\n",
       "      <th>response</th>\n",
       "      <th>subj_idx</th>\n",
       "      <th>v</th>\n",
       "      <th>a</th>\n",
       "      <th>z</th>\n",
       "      <th>t</th>\n",
       "    </tr>\n",
       "  </thead>\n",
       "  <tbody>\n",
       "    <tr>\n",
       "      <th>0</th>\n",
       "      <td>2.145795</td>\n",
       "      <td>0.0</td>\n",
       "      <td>0</td>\n",
       "      <td>-0.987347</td>\n",
       "      <td>1.998718</td>\n",
       "      <td>0.675008</td>\n",
       "      <td>0.992797</td>\n",
       "    </tr>\n",
       "    <tr>\n",
       "      <th>1</th>\n",
       "      <td>3.877770</td>\n",
       "      <td>0.0</td>\n",
       "      <td>0</td>\n",
       "      <td>-0.987347</td>\n",
       "      <td>1.998718</td>\n",
       "      <td>0.675008</td>\n",
       "      <td>0.992797</td>\n",
       "    </tr>\n",
       "    <tr>\n",
       "      <th>2</th>\n",
       "      <td>2.998834</td>\n",
       "      <td>0.0</td>\n",
       "      <td>0</td>\n",
       "      <td>-0.987347</td>\n",
       "      <td>1.998718</td>\n",
       "      <td>0.675008</td>\n",
       "      <td>0.992797</td>\n",
       "    </tr>\n",
       "    <tr>\n",
       "      <th>3</th>\n",
       "      <td>2.696820</td>\n",
       "      <td>0.0</td>\n",
       "      <td>0</td>\n",
       "      <td>-0.987347</td>\n",
       "      <td>1.998718</td>\n",
       "      <td>0.675008</td>\n",
       "      <td>0.992797</td>\n",
       "    </tr>\n",
       "    <tr>\n",
       "      <th>4</th>\n",
       "      <td>3.962764</td>\n",
       "      <td>0.0</td>\n",
       "      <td>0</td>\n",
       "      <td>-0.987347</td>\n",
       "      <td>1.998718</td>\n",
       "      <td>0.675008</td>\n",
       "      <td>0.992797</td>\n",
       "    </tr>\n",
       "    <tr>\n",
       "      <th>...</th>\n",
       "      <td>...</td>\n",
       "      <td>...</td>\n",
       "      <td>...</td>\n",
       "      <td>...</td>\n",
       "      <td>...</td>\n",
       "      <td>...</td>\n",
       "      <td>...</td>\n",
       "    </tr>\n",
       "    <tr>\n",
       "      <th>995</th>\n",
       "      <td>3.653786</td>\n",
       "      <td>0.0</td>\n",
       "      <td>0</td>\n",
       "      <td>-0.987347</td>\n",
       "      <td>1.998718</td>\n",
       "      <td>0.675008</td>\n",
       "      <td>0.992797</td>\n",
       "    </tr>\n",
       "    <tr>\n",
       "      <th>996</th>\n",
       "      <td>2.462810</td>\n",
       "      <td>0.0</td>\n",
       "      <td>0</td>\n",
       "      <td>-0.987347</td>\n",
       "      <td>1.998718</td>\n",
       "      <td>0.675008</td>\n",
       "      <td>0.992797</td>\n",
       "    </tr>\n",
       "    <tr>\n",
       "      <th>997</th>\n",
       "      <td>3.037831</td>\n",
       "      <td>0.0</td>\n",
       "      <td>0</td>\n",
       "      <td>-0.987347</td>\n",
       "      <td>1.998718</td>\n",
       "      <td>0.675008</td>\n",
       "      <td>0.992797</td>\n",
       "    </tr>\n",
       "    <tr>\n",
       "      <th>998</th>\n",
       "      <td>5.605645</td>\n",
       "      <td>0.0</td>\n",
       "      <td>0</td>\n",
       "      <td>-0.987347</td>\n",
       "      <td>1.998718</td>\n",
       "      <td>0.675008</td>\n",
       "      <td>0.992797</td>\n",
       "    </tr>\n",
       "    <tr>\n",
       "      <th>999</th>\n",
       "      <td>5.691639</td>\n",
       "      <td>0.0</td>\n",
       "      <td>0</td>\n",
       "      <td>-0.987347</td>\n",
       "      <td>1.998718</td>\n",
       "      <td>0.675008</td>\n",
       "      <td>0.992797</td>\n",
       "    </tr>\n",
       "  </tbody>\n",
       "</table>\n",
       "<p>1000 rows × 7 columns</p>\n",
       "</div>"
      ],
      "text/plain": [
       "           rt  response subj_idx         v         a         z         t\n",
       "0    2.145795       0.0        0 -0.987347  1.998718  0.675008  0.992797\n",
       "1    3.877770       0.0        0 -0.987347  1.998718  0.675008  0.992797\n",
       "2    2.998834       0.0        0 -0.987347  1.998718  0.675008  0.992797\n",
       "3    2.696820       0.0        0 -0.987347  1.998718  0.675008  0.992797\n",
       "4    3.962764       0.0        0 -0.987347  1.998718  0.675008  0.992797\n",
       "..        ...       ...      ...       ...       ...       ...       ...\n",
       "995  3.653786       0.0        0 -0.987347  1.998718  0.675008  0.992797\n",
       "996  2.462810       0.0        0 -0.987347  1.998718  0.675008  0.992797\n",
       "997  3.037831       0.0        0 -0.987347  1.998718  0.675008  0.992797\n",
       "998  5.605645       0.0        0 -0.987347  1.998718  0.675008  0.992797\n",
       "999  5.691639       0.0        0 -0.987347  1.998718  0.675008  0.992797\n",
       "\n",
       "[1000 rows x 7 columns]"
      ]
     },
     "execution_count": 8,
     "metadata": {},
     "output_type": "execute_result"
    }
   ],
   "source": [
    "data"
   ]
  },
  {
   "cell_type": "code",
   "execution_count": 9,
   "id": "4491fdb4",
   "metadata": {
    "scrolled": true
   },
   "outputs": [
    {
     "data": {
      "text/plain": [
       "{'t': 0.9927967705453422,\n",
       " 'z': 0.6750077625133333,\n",
       " 'a': 1.9987184904972595,\n",
       " 'v': -0.9873472533550841}"
      ]
     },
     "execution_count": 9,
     "metadata": {},
     "output_type": "execute_result"
    }
   ],
   "source": [
    "full_parameter_dict"
   ]
  },
  {
   "cell_type": "markdown",
   "id": "0ce5c57d",
   "metadata": {},
   "source": [
    "### 1.2 First Plot"
   ]
  },
  {
   "cell_type": "code",
   "execution_count": 10,
   "id": "da4ec26d",
   "metadata": {
    "scrolled": true
   },
   "outputs": [
    {
     "name": "stdout",
     "output_type": "stream",
     "text": [
      "subj_idx(0)\n"
     ]
    },
    {
     "data": {
      "image/png": "[encoded data removed]",
      "text/plain": [
       "<Figure size 288x216 with 3 Axes>"
      ]
     },
     "metadata": {
      "needs_background": "light"
     },
     "output_type": "display_data"
    }
   ],
   "source": [
    "hddm.plotting.plot_from_data(df = data,\n",
    "                             generative_model = model,\n",
    "                             columns = 1,\n",
    "                             groupby = ['subj_idx'],\n",
    "                             figsize = (4, 3),\n",
    "                             value_range = np.arange(0, 5, 0.1),\n",
    "                             plot_func = hddm.plotting._plot_func_model,\n",
    "                             **{'alpha': 1.,\n",
    "                                'ylim': 3,\n",
    "                                'add_data_rts': True,\n",
    "                                'add_data_model': False})\n",
    "plt.show()"
   ]
  },
  {
   "cell_type": "code",
   "execution_count": 11,
   "id": "831985d1",
   "metadata": {
    "scrolled": true
   },
   "outputs": [
    {
     "name": "stdout",
     "output_type": "stream",
     "text": [
      "subj_idx(0)\n"
     ]
    },
    {
     "data": {
      "image/png": "[encoded data removed]",
      "text/plain": [
       "<Figure size 288x216 with 3 Axes>"
      ]
     },
     "metadata": {
      "needs_background": "light"
     },
     "output_type": "display_data"
    }
   ],
   "source": [
    "hddm.plotting.plot_from_data(df = data,\n",
    "                             generative_model = model,\n",
    "                             columns = 1,\n",
    "                             groupby = ['subj_idx'],\n",
    "                             figsize = (4, 3),\n",
    "                             value_range = np.arange(0, 5, 0.1),\n",
    "                             plot_func = hddm.plotting._plot_func_model,\n",
    "                             **{'alpha': 1.,\n",
    "                                'ylim': 3,\n",
    "                                'add_data_rts': True,\n",
    "                                'add_data_model': True})\n",
    "plt.show()"
   ]
  },
  {
   "cell_type": "markdown",
   "id": "e9e2e8ae",
   "metadata": {},
   "source": [
    "## Section 2: Single Subject (or collapsed) Data"
   ]
  },
  {
   "cell_type": "code",
   "execution_count": 12,
   "id": "509dccef",
   "metadata": {},
   "outputs": [],
   "source": [
    "# Metadata\n",
    "nmcmc = 1500\n",
    "model = 'angle'\n",
    "n_samples = 1000\n",
    "includes = hddm.model_config.model_config[model]['hddm_include']"
   ]
  },
  {
   "cell_type": "code",
   "execution_count": 13,
   "id": "319b86df",
   "metadata": {},
   "outputs": [],
   "source": [
    "# Generate some simulatred data\n",
    "data, full_parameter_dict = hddm.simulators.hddm_dataset_generators.simulator_h_c(n_subjects = 1,\n",
    "                                                                                  n_trials_per_subject = n_samples,\n",
    "                                                                                  model = model,\n",
    "                                                                                  p_outlier = 0.00,\n",
    "                                                                                  conditions = None,\n",
    "                                                                                  depends_on = None,\n",
    "                                                                                  regression_models = None,\n",
    "                                                                                  regression_covariates = None, # need this to make initial covariate matrix from which to use dmatrix (patsy)\n",
    "                                                                                  group_only_regressors = False,\n",
    "                                                                                  group_only = None,\n",
    "                                                                                  fixed_at_default = None)\n"
   ]
  },
  {
   "cell_type": "code",
   "execution_count": 14,
   "id": "e350a6c2",
   "metadata": {
    "scrolled": true
   },
   "outputs": [
    {
     "data": {
      "text/html": [
       "<div>\n",
       "<style scoped>\n",
       "    .dataframe tbody tr th:only-of-type {\n",
       "        vertical-align: middle;\n",
       "    }\n",
       "\n",
       "    .dataframe tbody tr th {\n",
       "        vertical-align: top;\n",
       "    }\n",
       "\n",
       "    .dataframe thead th {\n",
       "        text-align: right;\n",
       "    }\n",
       "</style>\n",
       "<table border=\"1\" class=\"dataframe\">\n",
       "  <thead>\n",
       "    <tr style=\"text-align: right;\">\n",
       "      <th></th>\n",
       "      <th>rt</th>\n",
       "      <th>response</th>\n",
       "      <th>subj_idx</th>\n",
       "      <th>v</th>\n",
       "      <th>a</th>\n",
       "      <th>z</th>\n",
       "      <th>t</th>\n",
       "      <th>theta</th>\n",
       "    </tr>\n",
       "  </thead>\n",
       "  <tbody>\n",
       "    <tr>\n",
       "      <th>0</th>\n",
       "      <td>1.618406</td>\n",
       "      <td>1.0</td>\n",
       "      <td>0</td>\n",
       "      <td>1.595093</td>\n",
       "      <td>1.194264</td>\n",
       "      <td>0.603288</td>\n",
       "      <td>1.192408</td>\n",
       "      <td>0.994296</td>\n",
       "    </tr>\n",
       "    <tr>\n",
       "      <th>1</th>\n",
       "      <td>1.670405</td>\n",
       "      <td>0.0</td>\n",
       "      <td>0</td>\n",
       "      <td>1.595093</td>\n",
       "      <td>1.194264</td>\n",
       "      <td>0.603288</td>\n",
       "      <td>1.192408</td>\n",
       "      <td>0.994296</td>\n",
       "    </tr>\n",
       "    <tr>\n",
       "      <th>2</th>\n",
       "      <td>1.477407</td>\n",
       "      <td>1.0</td>\n",
       "      <td>0</td>\n",
       "      <td>1.595093</td>\n",
       "      <td>1.194264</td>\n",
       "      <td>0.603288</td>\n",
       "      <td>1.192408</td>\n",
       "      <td>0.994296</td>\n",
       "    </tr>\n",
       "    <tr>\n",
       "      <th>3</th>\n",
       "      <td>1.551407</td>\n",
       "      <td>1.0</td>\n",
       "      <td>0</td>\n",
       "      <td>1.595093</td>\n",
       "      <td>1.194264</td>\n",
       "      <td>0.603288</td>\n",
       "      <td>1.192408</td>\n",
       "      <td>0.994296</td>\n",
       "    </tr>\n",
       "    <tr>\n",
       "      <th>4</th>\n",
       "      <td>1.570406</td>\n",
       "      <td>1.0</td>\n",
       "      <td>0</td>\n",
       "      <td>1.595093</td>\n",
       "      <td>1.194264</td>\n",
       "      <td>0.603288</td>\n",
       "      <td>1.192408</td>\n",
       "      <td>0.994296</td>\n",
       "    </tr>\n",
       "    <tr>\n",
       "      <th>...</th>\n",
       "      <td>...</td>\n",
       "      <td>...</td>\n",
       "      <td>...</td>\n",
       "      <td>...</td>\n",
       "      <td>...</td>\n",
       "      <td>...</td>\n",
       "      <td>...</td>\n",
       "      <td>...</td>\n",
       "    </tr>\n",
       "    <tr>\n",
       "      <th>995</th>\n",
       "      <td>1.409408</td>\n",
       "      <td>1.0</td>\n",
       "      <td>0</td>\n",
       "      <td>1.595093</td>\n",
       "      <td>1.194264</td>\n",
       "      <td>0.603288</td>\n",
       "      <td>1.192408</td>\n",
       "      <td>0.994296</td>\n",
       "    </tr>\n",
       "    <tr>\n",
       "      <th>996</th>\n",
       "      <td>1.805403</td>\n",
       "      <td>1.0</td>\n",
       "      <td>0</td>\n",
       "      <td>1.595093</td>\n",
       "      <td>1.194264</td>\n",
       "      <td>0.603288</td>\n",
       "      <td>1.192408</td>\n",
       "      <td>0.994296</td>\n",
       "    </tr>\n",
       "    <tr>\n",
       "      <th>997</th>\n",
       "      <td>1.349408</td>\n",
       "      <td>1.0</td>\n",
       "      <td>0</td>\n",
       "      <td>1.595093</td>\n",
       "      <td>1.194264</td>\n",
       "      <td>0.603288</td>\n",
       "      <td>1.192408</td>\n",
       "      <td>0.994296</td>\n",
       "    </tr>\n",
       "    <tr>\n",
       "      <th>998</th>\n",
       "      <td>1.478408</td>\n",
       "      <td>1.0</td>\n",
       "      <td>0</td>\n",
       "      <td>1.595093</td>\n",
       "      <td>1.194264</td>\n",
       "      <td>0.603288</td>\n",
       "      <td>1.192408</td>\n",
       "      <td>0.994296</td>\n",
       "    </tr>\n",
       "    <tr>\n",
       "      <th>999</th>\n",
       "      <td>1.449408</td>\n",
       "      <td>1.0</td>\n",
       "      <td>0</td>\n",
       "      <td>1.595093</td>\n",
       "      <td>1.194264</td>\n",
       "      <td>0.603288</td>\n",
       "      <td>1.192408</td>\n",
       "      <td>0.994296</td>\n",
       "    </tr>\n",
       "  </tbody>\n",
       "</table>\n",
       "<p>1000 rows × 8 columns</p>\n",
       "</div>"
      ],
      "text/plain": [
       "           rt  response subj_idx         v         a         z         t  \\\n",
       "0    1.618406       1.0        0  1.595093  1.194264  0.603288  1.192408   \n",
       "1    1.670405       0.0        0  1.595093  1.194264  0.603288  1.192408   \n",
       "2    1.477407       1.0        0  1.595093  1.194264  0.603288  1.192408   \n",
       "3    1.551407       1.0        0  1.595093  1.194264  0.603288  1.192408   \n",
       "4    1.570406       1.0        0  1.595093  1.194264  0.603288  1.192408   \n",
       "..        ...       ...      ...       ...       ...       ...       ...   \n",
       "995  1.409408       1.0        0  1.595093  1.194264  0.603288  1.192408   \n",
       "996  1.805403       1.0        0  1.595093  1.194264  0.603288  1.192408   \n",
       "997  1.349408       1.0        0  1.595093  1.194264  0.603288  1.192408   \n",
       "998  1.478408       1.0        0  1.595093  1.194264  0.603288  1.192408   \n",
       "999  1.449408       1.0        0  1.595093  1.194264  0.603288  1.192408   \n",
       "\n",
       "        theta  \n",
       "0    0.994296  \n",
       "1    0.994296  \n",
       "2    0.994296  \n",
       "3    0.994296  \n",
       "4    0.994296  \n",
       "..        ...  \n",
       "995  0.994296  \n",
       "996  0.994296  \n",
       "997  0.994296  \n",
       "998  0.994296  \n",
       "999  0.994296  \n",
       "\n",
       "[1000 rows x 8 columns]"
      ]
     },
     "execution_count": 14,
     "metadata": {},
     "output_type": "execute_result"
    }
   ],
   "source": [
    "data"
   ]
  },
  {
   "cell_type": "code",
   "execution_count": 15,
   "id": "5d5451e7",
   "metadata": {},
   "outputs": [
    {
     "name": "stdout",
     "output_type": "stream",
     "text": [
      "Supplied model_config specifies params_std_upper for  z as  None.\n",
      "Changed to 10\n"
     ]
    }
   ],
   "source": [
    "# Define the HDDM model\n",
    "hddmnn_model = hddm.HDDMnn(data,\n",
    "                           informative = False,\n",
    "                           include = includes,\n",
    "                           p_outlier = 0.01,\n",
    "                           w_outlier = 0.1,\n",
    "                           model = model,)"
   ]
  },
  {
   "cell_type": "code",
   "execution_count": 16,
   "id": "b22dfb7f",
   "metadata": {},
   "outputs": [
    {
     "name": "stdout",
     "output_type": "stream",
     "text": [
      " [-----------------100%-----------------] 1500 of 1500 complete in 59.1 sec"
     ]
    },
    {
     "data": {
      "text/plain": [
       "<pymc.MCMC.MCMC at 0x7f3d1436ae50>"
      ]
     },
     "execution_count": 16,
     "metadata": {},
     "output_type": "execute_result"
    }
   ],
   "source": [
    "# Sample\n",
    "hddmnn_model.sample(nmcmc,\n",
    "                    burn = 500)"
   ]
  },
  {
   "cell_type": "markdown",
   "id": "983c26b7",
   "metadata": {},
   "source": [
    "### 2.1 Visualization"
   ]
  },
  {
   "cell_type": "code",
   "execution_count": 17,
   "id": "fc6ae1e2",
   "metadata": {
    "scrolled": true
   },
   "outputs": [
    {
     "ename": "AttributeError",
     "evalue": "'HDDMnn' object has no attribute 'rl_rule'",
     "output_type": "error",
     "traceback": [
      "\u001b[0;31m---------------------------------------------------------------------------\u001b[0m",
      "\u001b[0;31mAttributeError\u001b[0m                            Traceback (most recent call last)",
      "\u001b[0;32m<ipython-input-17-64d15b9ae293>\u001b[0m in \u001b[0;36m<module>\u001b[0;34m\u001b[0m\n\u001b[1;32m      1\u001b[0m \u001b[0;31m# Caterpillar Plot: (Parameters recovered ok?)\u001b[0m\u001b[0;34m\u001b[0m\u001b[0;34m\u001b[0m\u001b[0;34m\u001b[0m\u001b[0m\n\u001b[0;32m----> 2\u001b[0;31m hddm.plotting.plot_caterpillar(hddm_model = hddmnn_model,\n\u001b[0m\u001b[1;32m      3\u001b[0m                                \u001b[0mground_truth_parameter_dict\u001b[0m \u001b[0;34m=\u001b[0m \u001b[0mfull_parameter_dict\u001b[0m\u001b[0;34m,\u001b[0m\u001b[0;34m\u001b[0m\u001b[0;34m\u001b[0m\u001b[0m\n\u001b[1;32m      4\u001b[0m                                \u001b[0mfigsize\u001b[0m \u001b[0;34m=\u001b[0m \u001b[0;34m(\u001b[0m\u001b[0;36m8\u001b[0m\u001b[0;34m,\u001b[0m \u001b[0;36m5\u001b[0m\u001b[0;34m)\u001b[0m\u001b[0;34m,\u001b[0m\u001b[0;34m\u001b[0m\u001b[0;34m\u001b[0m\u001b[0m\n\u001b[1;32m      5\u001b[0m                                columns = 3)\n",
      "\u001b[0;32m/opt/conda/lib/python3.8/site-packages/hddm/plotting.py\u001b[0m in \u001b[0;36mplot_caterpillar\u001b[0;34m(hddm_model, ground_truth_parameter_dict, drop_sd, keep_key, figsize, columns, save, path, format, y_tick_size, x_tick_size)\u001b[0m\n\u001b[1;32m   1928\u001b[0m         \u001b[0;32mreturn\u001b[0m \u001b[0;34m\"No HDDM object supplied\"\u001b[0m\u001b[0;34m\u001b[0m\u001b[0;34m\u001b[0m\u001b[0m\n\u001b[1;32m   1929\u001b[0m \u001b[0;34m\u001b[0m\u001b[0m\n\u001b[0;32m-> 1930\u001b[0;31m     \u001b[0mout\u001b[0m \u001b[0;34m=\u001b[0m \u001b[0m_group_node_names_by_param\u001b[0m\u001b[0;34m(\u001b[0m\u001b[0mmodel\u001b[0m\u001b[0;34m=\u001b[0m\u001b[0mhddm_model\u001b[0m\u001b[0;34m)\u001b[0m\u001b[0;34m\u001b[0m\u001b[0;34m\u001b[0m\u001b[0m\n\u001b[0m\u001b[1;32m   1931\u001b[0m     \u001b[0mtraces_by_param\u001b[0m \u001b[0;34m=\u001b[0m \u001b[0m_group_traces_via_grouped_nodes\u001b[0m\u001b[0;34m(\u001b[0m\u001b[0mmodel\u001b[0m\u001b[0;34m=\u001b[0m\u001b[0mhddm_model\u001b[0m\u001b[0;34m,\u001b[0m \u001b[0mgroup_dict\u001b[0m\u001b[0;34m=\u001b[0m\u001b[0mout\u001b[0m\u001b[0;34m)\u001b[0m\u001b[0;34m\u001b[0m\u001b[0;34m\u001b[0m\u001b[0m\n\u001b[1;32m   1932\u001b[0m \u001b[0;34m\u001b[0m\u001b[0m\n",
      "\u001b[0;32m/opt/conda/lib/python3.8/site-packages/hddm/plotting.py\u001b[0m in \u001b[0;36m_group_node_names_by_param\u001b[0;34m(model)\u001b[0m\n\u001b[1;32m   1821\u001b[0m     \u001b[0mtmp_params_allowed\u001b[0m \u001b[0;34m=\u001b[0m \u001b[0mmodel_config\u001b[0m\u001b[0;34m[\u001b[0m\u001b[0mmodel\u001b[0m\u001b[0;34m.\u001b[0m\u001b[0mmodel\u001b[0m\u001b[0;34m]\u001b[0m\u001b[0;34m[\u001b[0m\u001b[0;34m\"params\"\u001b[0m\u001b[0;34m]\u001b[0m\u001b[0;34m.\u001b[0m\u001b[0mcopy\u001b[0m\u001b[0;34m(\u001b[0m\u001b[0;34m)\u001b[0m\u001b[0;34m\u001b[0m\u001b[0;34m\u001b[0m\u001b[0m\n\u001b[1;32m   1822\u001b[0m     \u001b[0;32mif\u001b[0m \u001b[0mhasattr\u001b[0m\u001b[0;34m(\u001b[0m\u001b[0mmodel\u001b[0m\u001b[0;34m,\u001b[0m \u001b[0;34m'rlssm_model'\u001b[0m\u001b[0;34m)\u001b[0m\u001b[0;34m:\u001b[0m\u001b[0;34m\u001b[0m\u001b[0;34m\u001b[0m\u001b[0m\n\u001b[0;32m-> 1823\u001b[0;31m         \u001b[0mtmp_params_allowed\u001b[0m\u001b[0;34m.\u001b[0m\u001b[0mextend\u001b[0m\u001b[0;34m(\u001b[0m\u001b[0mmodel_config_rl\u001b[0m\u001b[0;34m[\u001b[0m\u001b[0mmodel\u001b[0m\u001b[0;34m.\u001b[0m\u001b[0mrl_rule\u001b[0m\u001b[0;34m]\u001b[0m\u001b[0;34m[\u001b[0m\u001b[0;34m\"params\"\u001b[0m\u001b[0;34m]\u001b[0m\u001b[0;34m)\u001b[0m\u001b[0;34m\u001b[0m\u001b[0;34m\u001b[0m\u001b[0m\n\u001b[0m\u001b[1;32m   1824\u001b[0m     \u001b[0mtmp_params_allowed\u001b[0m\u001b[0;34m.\u001b[0m\u001b[0mappend\u001b[0m\u001b[0;34m(\u001b[0m\u001b[0;34m\"dc\"\u001b[0m\u001b[0;34m)\u001b[0m  \u001b[0;31m# to accomodate HDDMStimcoding class\u001b[0m\u001b[0;34m\u001b[0m\u001b[0;34m\u001b[0m\u001b[0m\n\u001b[1;32m   1825\u001b[0m     \u001b[0mkeys_by_param\u001b[0m \u001b[0;34m=\u001b[0m \u001b[0;34m{\u001b[0m\u001b[0;34m}\u001b[0m\u001b[0;34m\u001b[0m\u001b[0;34m\u001b[0m\u001b[0m\n",
      "\u001b[0;31mAttributeError\u001b[0m: 'HDDMnn' object has no attribute 'rl_rule'"
     ]
    }
   ],
   "source": [
    "# Caterpillar Plot: (Parameters recovered ok?)\n",
    "hddm.plotting.plot_caterpillar(hddm_model = hddmnn_model,\n",
    "                               ground_truth_parameter_dict = full_parameter_dict,\n",
    "                               figsize = (8, 5),\n",
    "                               columns = 3)\n",
    "\n",
    "plt.show()"
   ]
  },
  {
   "cell_type": "markdown",
   "id": "b7c09696",
   "metadata": {},
   "source": [
    "#### 2.1.1 Posterior Predictive (via `model cartoon plot`)"
   ]
  },
  {
   "cell_type": "code",
   "execution_count": null,
   "id": "840ef35c",
   "metadata": {},
   "outputs": [],
   "source": [
    "hddm.plotting.plot_posterior_predictive(model = hddmnn_model,\n",
    "                                        columns = 1,\n",
    "                                        groupby = ['subj_idx'],\n",
    "                                        figsize = (6, 4),\n",
    "                                        value_range = np.arange(0, 5, 0.1),\n",
    "                                        plot_func = hddm.plotting._plot_func_model,\n",
    "                                        parameter_recovery_mode = True,\n",
    "                                        **{'alpha': 0.01,\n",
    "                                        'ylim': 3,\n",
    "                                        'samples': 200})\n",
    "plt.show()"
   ]
  },
  {
   "cell_type": "markdown",
   "id": "ac1bad32",
   "metadata": {},
   "source": [
    "**A small note on convergence:**"
   ]
  },
  {
   "cell_type": "code",
   "execution_count": null,
   "id": "361cdf82",
   "metadata": {
    "scrolled": true
   },
   "outputs": [],
   "source": [
    "# TAKING A LOOK AT THE POSTERIOR TRACES\n",
    "hddmnn_model.plot_posteriors(hddm.simulators.model_config[model]['params'])\n",
    "plt.show()"
   ]
  },
  {
   "cell_type": "code",
   "execution_count": null,
   "id": "4dcc1107",
   "metadata": {
    "scrolled": true
   },
   "outputs": [],
   "source": [
    "hddm.plotting.plot_posterior_pair(hddmnn_model, save = False,\n",
    "                                  parameter_recovery_mode = True,\n",
    "                                  samples = 500,\n",
    "                                  figsize = (6, 6))"
   ]
  },
  {
   "cell_type": "markdown",
   "id": "5faefb4a",
   "metadata": {},
   "source": [
    "## Section 3: Hierarchical Models"
   ]
  },
  {
   "cell_type": "code",
   "execution_count": null,
   "id": "af46cbed",
   "metadata": {},
   "outputs": [],
   "source": [
    "# Metadata\n",
    "nmcmc = 1000\n",
    "model = 'angle'\n",
    "n_trials_per_subject = 200\n",
    "n_subjects = 10"
   ]
  },
  {
   "cell_type": "code",
   "execution_count": null,
   "id": "48822949",
   "metadata": {},
   "outputs": [],
   "source": [
    "# test regressors only False\n",
    "# add p_outliers to the generator !\n",
    "data, full_parameter_dict = hddm.simulators.hddm_dataset_generators.simulator_h_c(data = None,\n",
    "                                                                                  n_subjects = n_subjects,\n",
    "                                                                                  n_trials_per_subject = n_trials_per_subject,\n",
    "                                                                                  model = model,\n",
    "                                                                                  p_outlier = 0.00,\n",
    "                                                                                  conditions = None,\n",
    "                                                                                  depends_on = None,\n",
    "                                                                                  regression_models = None,\n",
    "                                                                                  regression_covariates = None,\n",
    "                                                                                  group_only_regressors = False,\n",
    "                                                                                  group_only = None,\n",
    "                                                                                  fixed_at_default = None)\n"
   ]
  },
  {
   "cell_type": "code",
   "execution_count": null,
   "id": "ca1957b1",
   "metadata": {
    "scrolled": true
   },
   "outputs": [],
   "source": [
    "hddmnn_model = hddm.HDDMnn(data,\n",
    "                           model = model,\n",
    "                           informative = False,\n",
    "                           is_group_model = True,\n",
    "                           include = hddm.simulators.model_config[model]['hddm_include'],\n",
    "                           p_outlier = 0.0)"
   ]
  },
  {
   "cell_type": "code",
   "execution_count": null,
   "id": "dcc917a8",
   "metadata": {
    "scrolled": true
   },
   "outputs": [],
   "source": [
    "hddmnn_model.sample(nmcmc,\n",
    "                    burn = 100) # if you want to save the model specify extra arguments --> dbname='traces.db', db='pickle'. # hddmnn_model.save('test_model')"
   ]
  },
  {
   "cell_type": "code",
   "execution_count": null,
   "id": "52ece340",
   "metadata": {},
   "outputs": [],
   "source": [
    "# Caterpillar Plot: (Parameters recovered ok?)\n",
    "hddm.plotting.plot_caterpillar(hddm_model = hddmnn_model,\n",
    "                               ground_truth_parameter_dict = full_parameter_dict,\n",
    "                               figsize = (8, 5),\n",
    "                               columns = 3)\n",
    "\n",
    "plt.show()"
   ]
  },
  {
   "cell_type": "markdown",
   "id": "1037b15f",
   "metadata": {},
   "source": [
    "## Section 4: Parameter varies by Condition"
   ]
  },
  {
   "cell_type": "code",
   "execution_count": null,
   "id": "8749e1cc",
   "metadata": {},
   "outputs": [],
   "source": [
    "# Metadata\n",
    "nmcmc = 1000\n",
    "model = 'angle'\n",
    "n_trials_per_subject = 500\n",
    "\n",
    "# We allow the boundary conditions to vary\n",
    "depends_on = {'a': ['c_one']}\n",
    "\n",
    "# They will depend on a fictious column 'c_one' that specifies\n",
    "# levels / conditions\n",
    "conditions = {'c_one': ['low', 'medium', 'high']}"
   ]
  },
  {
   "cell_type": "code",
   "execution_count": null,
   "id": "81e5d955",
   "metadata": {},
   "outputs": [],
   "source": [
    "data, full_parameter_dict = hddm.simulators.hddm_dataset_generators.simulator_h_c(n_subjects = 1,\n",
    "                                                                                  n_trials_per_subject = n_trials_per_subject,\n",
    "                                                                                  model = model,\n",
    "                                                                                  p_outlier = 0.00,\n",
    "                                                                                  conditions = conditions,\n",
    "                                                                                  depends_on = depends_on,\n",
    "                                                                                  regression_models = None,\n",
    "                                                                                  regression_covariates = None,\n",
    "                                                                                  group_only_regressors = False,\n",
    "                                                                                  group_only = None,\n",
    "                                                                                  fixed_at_default = None)\n"
   ]
  },
  {
   "cell_type": "code",
   "execution_count": null,
   "id": "77df8640",
   "metadata": {},
   "outputs": [],
   "source": [
    "# Let's check the resulting parameter vector\n",
    "full_parameter_dict"
   ]
  },
  {
   "cell_type": "code",
   "execution_count": null,
   "id": "d568293d",
   "metadata": {},
   "outputs": [],
   "source": [
    "# Make HDDM Model\n",
    "hddmnn_model = hddm.HDDMnn(data,\n",
    "                           model = model,\n",
    "                           informative = False,\n",
    "                           include = hddm.simulators.model_config[model]['hddm_include'],\n",
    "                           p_outlier = 0.0,\n",
    "                           is_group_model = False,\n",
    "                           depends_on = depends_on)\n"
   ]
  },
  {
   "cell_type": "code",
   "execution_count": null,
   "id": "d4370c9c",
   "metadata": {},
   "outputs": [],
   "source": [
    "# Sample\n",
    "hddmnn_model.sample(nmcmc, burn = 100)"
   ]
  },
  {
   "cell_type": "code",
   "execution_count": null,
   "id": "f617237a",
   "metadata": {},
   "outputs": [],
   "source": [
    "# Caterpillar Plot: (Parameters recovered ok?)\n",
    "hddm.plotting.plot_caterpillar(hddm_model = hddmnn_model,\n",
    "                               ground_truth_parameter_dict = full_parameter_dict,\n",
    "                               figsize = (8, 5),\n",
    "                               columns = 3)\n",
    "\n",
    "plt.show()"
   ]
  },
  {
   "cell_type": "code",
   "execution_count": null,
   "id": "820d941d",
   "metadata": {
    "scrolled": true
   },
   "outputs": [],
   "source": [
    "hddm.plotting.plot_posterior_predictive(model = hddmnn_model,\n",
    "                                        columns = 1,\n",
    "                                        groupby = ['subj_idx'],\n",
    "                                        figsize = (4, 4),\n",
    "                                        value_range = np.arange(0, 5, 0.1),\n",
    "                                        plot_func = hddm.plotting._plot_func_model,\n",
    "                                        parameter_recovery_mode = True,\n",
    "                                        **{'alpha': 0.01,\n",
    "                                        'ylim': 3,\n",
    "                                        'add_posterior_uncertainty_rts': True,\n",
    "                                        'add_posterior_uncertainty_model': True,\n",
    "                                        'samples': 200})\n",
    "plt.show()"
   ]
  },
  {
   "cell_type": "markdown",
   "id": "a13a1880",
   "metadata": {},
   "source": [
    "### 4.1 Combine hierarchical and condition data"
   ]
  },
  {
   "cell_type": "code",
   "execution_count": null,
   "id": "04544221",
   "metadata": {},
   "outputs": [],
   "source": [
    "# Metadata\n",
    "nmcmc = 1500\n",
    "model = 'angle'\n",
    "n_subjects = 5\n",
    "n_trials_per_subject = 500"
   ]
  },
  {
   "cell_type": "code",
   "execution_count": null,
   "id": "68542f71",
   "metadata": {},
   "outputs": [],
   "source": [
    "data, full_parameter_dict = hddm.simulators.hddm_dataset_generators.simulator_h_c(n_subjects = n_subjects,\n",
    "                                                                                  n_trials_per_subject = n_trials_per_subject,\n",
    "                                                                                  model = model,\n",
    "                                                                                  p_outlier = 0.00,\n",
    "                                                                                  conditions = {'c_one': ['low', 'medium', 'high']}, #, 'c_three': ['low', 'medium', 'high']},\n",
    "                                                                                  depends_on = {'v': ['c_one']}, # 'theta': ['c_two']}, # 'theta': ['c_two']}, #regression_models = None, #\n",
    "                                                                                  regression_models = None, #regression_covariates = None,\n",
    "                                                                                  regression_covariates = None, # need this to make initial covariate matrix from which to use dmatrix (patsy)\n",
    "                                                                                  group_only_regressors = False,\n",
    "                                                                                  group_only = None,\n",
    "                                                                                  fixed_at_default = None)\n"
   ]
  },
  {
   "cell_type": "code",
   "execution_count": null,
   "id": "f4d268ae",
   "metadata": {},
   "outputs": [],
   "source": [
    "# Make HDDM Model\n",
    "hddmnn_model = hddm.HDDMnn(data,\n",
    "                           model = model,\n",
    "                           informative = False,\n",
    "                           include = hddm.simulators.model_config[model]['hddm_include'],\n",
    "                           p_outlier = 0.0,\n",
    "                           is_group_model = True,\n",
    "                           depends_on = {'v': 'c_one'})"
   ]
  },
  {
   "cell_type": "code",
   "execution_count": null,
   "id": "1b6f494f",
   "metadata": {},
   "outputs": [],
   "source": [
    "hddmnn_model.sample(nmcmc, burn = 100)"
   ]
  },
  {
   "cell_type": "code",
   "execution_count": null,
   "id": "e22137f1",
   "metadata": {
    "scrolled": true
   },
   "outputs": [],
   "source": [
    "# Caterpillar Plot: (Parameters recovered ok?)\n",
    "hddm.plotting.plot_caterpillar(hddm_model = hddmnn_model,\n",
    "                               ground_truth_parameter_dict = full_parameter_dict,\n",
    "                               figsize = (8, 8),\n",
    "                               columns = 3)\n",
    "\n",
    "plt.show()"
   ]
  },
  {
   "cell_type": "code",
   "execution_count": null,
   "id": "898a054f",
   "metadata": {
    "scrolled": true
   },
   "outputs": [],
   "source": [
    "hddm.plotting.plot_posterior_predictive(model = hddmnn_model,\n",
    "                                        columns = 2, # groupby = ['subj_idx'],\n",
    "                                        figsize = (8, 6),\n",
    "                                        value_range = np.arange(1, 2.5, 0.1),\n",
    "                                        plot_func = hddm.plotting._plot_func_model,\n",
    "                                        parameter_recovery_mode = True,\n",
    "                                        **{'alpha': 0.01,\n",
    "                                        'ylim': 3,\n",
    "                                        'add_posterior_uncertainty_rts': True,\n",
    "                                        'add_posterior_uncertainty_model': True,\n",
    "                                        'samples': 200,\n",
    "                                        'legend_fontsize': 7})\n",
    "plt.show()"
   ]
  },
  {
   "cell_type": "markdown",
   "id": "8747dae9",
   "metadata": {},
   "source": [
    "## Section 5: Regressors\n",
    "This section provides a simple working example using the Neural Networks with the Regression backend. The regression back-end allows linking parameters to trial-by-trial covariates via a (general) linear model."
   ]
  },
  {
   "cell_type": "code",
   "execution_count": null,
   "id": "e87cc7f7",
   "metadata": {},
   "outputs": [],
   "source": [
    "# Metadata\n",
    "nmcmc = 200\n",
    "model = 'angle'\n",
    "n_samples_by_subject = 500"
   ]
  },
  {
   "cell_type": "code",
   "execution_count": null,
   "id": "6193a003",
   "metadata": {},
   "outputs": [],
   "source": [
    "data, full_parameter_dict = hddm.simulators.hddm_dataset_generators.simulator_h_c(n_subjects = 3,\n",
    "                                                                                  n_samples_by_subject = n_samples_by_subject,\n",
    "                                                                                  model = model,\n",
    "                                                                                  p_outlier = 0.00,\n",
    "                                                                                  conditions = None,\n",
    "                                                                                  depends_on = None,\n",
    "                                                                                  regression_models = ['t ~ 1 + covariate_name', 'v ~ 1 + covariate_name'],\n",
    "                                                                                  regression_covariates = {'covariate_name': {'type': 'continuous', 'range': (0, 1)}},\n",
    "                                                                                  group_only_regressors = False,\n",
    "                                                                                  group_only = None,\n",
    "                                                                                  fixed_at_default = None)\n"
   ]
  },
  {
   "cell_type": "code",
   "execution_count": null,
   "id": "2d7530ac",
   "metadata": {},
   "outputs": [],
   "source": [
    "# Set up the regressor a regressor:\n",
    "reg_model_v = {'model': 'v ~ 1 + covariate_name', 'link_func': lambda x: x}\n",
    "reg_model_t = {'model': 't ~ 1 + covariate_name', 'link_func': lambda x: x}\n",
    "reg_descr = [reg_model_t, reg_model_v]\n"
   ]
  },
  {
   "cell_type": "code",
   "execution_count": null,
   "id": "02d37f91",
   "metadata": {},
   "outputs": [],
   "source": [
    "# Make HDDM model\n",
    "hddmnn_reg = hddm.HDDMnnRegressor(data,\n",
    "                                  reg_descr,\n",
    "                                  include = hddm.simulators.model_config[model]['hddm_include'],\n",
    "                                  model = model,\n",
    "                                  informative = False,\n",
    "                                  p_outlier = 0.0)"
   ]
  },
  {
   "cell_type": "code",
   "execution_count": null,
   "id": "49a5c398",
   "metadata": {},
   "outputs": [],
   "source": [
    "# Sample\n",
    "hddmnn_reg.sample(nmcmc, burn = 100)"
   ]
  },
  {
   "cell_type": "code",
   "execution_count": null,
   "id": "750b40d0",
   "metadata": {},
   "outputs": [],
   "source": [
    "# Caterpillar Plot: (Parameters recovered ok?)\n",
    "hddm.plotting.plot_caterpillar(hddm_model = hddmnn_reg,\n",
    "                               ground_truth_parameter_dict = full_parameter_dict,\n",
    "                               figsize = (8, 8),\n",
    "                               columns = 3)\n",
    "\n",
    "plt.show()"
   ]
  },
  {
   "cell_type": "markdown",
   "id": "694ea270",
   "metadata": {},
   "source": [
    "## Section 6: Stim Coding"
   ]
  },
  {
   "cell_type": "code",
   "execution_count": null,
   "id": "35c8fdf8",
   "metadata": {},
   "outputs": [],
   "source": [
    "# Metadata\n",
    "nmcmc = 300\n",
    "model = 'ddm'\n",
    "n_samples_by_condition = 500\n",
    "split_param = 'v'"
   ]
  },
  {
   "cell_type": "code",
   "execution_count": null,
   "id": "521b985f",
   "metadata": {},
   "outputs": [],
   "source": [
    "sim_data_stimcoding, parameter_dict = hddm.simulators.simulator_stimcoding(model = model,\n",
    "                                                                           split_by = split_param,\n",
    "                                                                           drift_criterion = 0.3,\n",
    "                                                                           n_trials_per_condition = 500)"
   ]
  },
  {
   "cell_type": "code",
   "execution_count": null,
   "id": "a001f6ac",
   "metadata": {
    "scrolled": true
   },
   "outputs": [],
   "source": [
    "sim_data_stimcoding"
   ]
  },
  {
   "cell_type": "code",
   "execution_count": null,
   "id": "0c45d5ff",
   "metadata": {
    "scrolled": true
   },
   "outputs": [],
   "source": [
    "parameter_dict"
   ]
  },
  {
   "cell_type": "code",
   "execution_count": null,
   "id": "df164cc0",
   "metadata": {},
   "outputs": [],
   "source": [
    "hddmnn_model = hddm.HDDMnnStimCoding(sim_data_stimcoding,\n",
    "                                     include = hddm.simulators.model_config[model]['hddm_include'],\n",
    "                                     model = model,\n",
    "                                     stim_col = 'stim',\n",
    "                                     p_outlier = 0.0,\n",
    "                                     split_param = split_param,\n",
    "                                     informative = False,\n",
    "                                     drift_criterion = True)"
   ]
  },
  {
   "cell_type": "code",
   "execution_count": null,
   "id": "53f1ae2f",
   "metadata": {
    "scrolled": true
   },
   "outputs": [],
   "source": [
    "hddmnn_model.sample(nmcmc, burn = 100)"
   ]
  },
  {
   "cell_type": "code",
   "execution_count": null,
   "id": "0374dbd1",
   "metadata": {},
   "outputs": [],
   "source": [
    "hddmnn_model.gen_stats()"
   ]
  },
  {
   "cell_type": "code",
   "execution_count": null,
   "id": "31690ecd",
   "metadata": {},
   "outputs": [],
   "source": [
    "# Caterpillar Plot: (Parameters recovered ok?)\n",
    "hddm.plotting.plot_caterpillar(hddm_model = hddmnn_model,\n",
    "                               ground_truth_parameter_dict = parameter_dict,\n",
    "                               figsize = (8, 5),\n",
    "                               columns = 3)\n",
    "\n",
    "plt.show()"
   ]
  },
  {
   "cell_type": "markdown",
   "id": "6c36ba7e",
   "metadata": {},
   "source": [
    "## Section 7: Model Recovery"
   ]
  },
  {
   "cell_type": "code",
   "execution_count": null,
   "id": "8da61836",
   "metadata": {},
   "outputs": [],
   "source": [
    "# Metadata\n",
    "model = 'weibull'\n",
    "n_samples = 300"
   ]
  },
  {
   "cell_type": "code",
   "execution_count": null,
   "id": "23836f66",
   "metadata": {},
   "outputs": [],
   "source": [
    "# test regressors only False\n",
    "# add p_outliers to the generator !\n",
    "data, full_parameter_dict = hddm.simulators.hddm_dataset_generators.simulator_h_c(n_subjects = 1,\n",
    "                                                                                  n_samples_by_subject = n_samples,\n",
    "                                                                                  model = model,\n",
    "                                                                                  p_outlier = 0.00,\n",
    "                                                                                  conditions = None,\n",
    "                                                                                  depends_on = None,\n",
    "                                                                                  regression_models = None,\n",
    "                                                                                  regression_covariates = None,\n",
    "                                                                                  group_only_regressors = False,\n",
    "                                                                                  group_only = None,\n",
    "                                                                                  fixed_at_default = None)\n"
   ]
  },
  {
   "cell_type": "code",
   "execution_count": null,
   "id": "706add06",
   "metadata": {
    "scrolled": true
   },
   "outputs": [],
   "source": [
    "data"
   ]
  },
  {
   "cell_type": "code",
   "execution_count": null,
   "id": "5945c172",
   "metadata": {},
   "outputs": [],
   "source": [
    "# Now we fit for each model:\n",
    "hddmnn_model_weibull = hddm.HDDMnn(data,\n",
    "                                   informative = False,\n",
    "                                   model = 'weibull',\n",
    "                                   p_outlier = 0.0,\n",
    "                                   include = hddm.simulators.model_config['weibull_cdf']['hddm_include'],\n",
    "                                   is_group_model = False)\n",
    "\n",
    "hddmnn_model_angle = hddm.HDDMnn(data,\n",
    "                                 model = 'angle',\n",
    "                                 informative = False,\n",
    "                                 p_outlier = 0.0,\n",
    "                                 include = hddm.simulators.model_config['angle']['hddm_include'],\n",
    "                                 is_group_model = False)\n",
    "\n",
    "hddmnn_model_ddm = hddm.HDDMnn(data,\n",
    "                               informative = False,\n",
    "                               model = 'ddm',\n",
    "                               p_outlier = 0.0,\n",
    "                               include = hddm.simulators.model_config['ddm']['hddm_include'],\n",
    "                               is_group_model = False)"
   ]
  },
  {
   "cell_type": "code",
   "execution_count": null,
   "id": "600e8543",
   "metadata": {},
   "outputs": [],
   "source": [
    "nmcmc = 1000\n",
    "hddmnn_model_weibull.sample(nmcmc,\n",
    "                            burn = 200)\n",
    "\n",
    "hddmnn_model_angle.sample(nmcmc,\n",
    "                          burn = 200)\n",
    "\n",
    "hddmnn_model_ddm.sample(nmcmc,\n",
    "                        burn = 200)"
   ]
  },
  {
   "cell_type": "markdown",
   "id": "8dcc1bc9",
   "metadata": {},
   "source": [
    "### 7.1 Checking Model Fits Visually\n",
    "Posterior Predictive: Do the ‘Posterior Models’ also make sense?"
   ]
  },
  {
   "cell_type": "code",
   "execution_count": null,
   "id": "96935703",
   "metadata": {},
   "outputs": [],
   "source": [
    "# WEIBULL\n",
    "hddm.plotting.plot_posterior_predictive(model = hddmnn_model_weibull,\n",
    "                                        columns = 1,\n",
    "                                        groupby = ['subj_idx'],\n",
    "                                        figsize = (4, 4),\n",
    "                                        value_range = np.arange(0, 5, 0.1),\n",
    "                                        plot_func = hddm.plotting._plot_func_model,\n",
    "                                        parameter_recovery_mode = True,\n",
    "                                        **{'alpha': 0.01,\n",
    "                                        'ylim': 3,\n",
    "                                        'add_posterior_uncertainty_model': True,\n",
    "                                        'add_posterior_uncertainty_rts': False,\n",
    "                                        'add_posterior_mean_rts': True,\n",
    "                                        'samples': 200})\n",
    "plt.show()"
   ]
  },
  {
   "cell_type": "code",
   "execution_count": null,
   "id": "08902a51",
   "metadata": {},
   "outputs": [],
   "source": [
    "# ANGLE\n",
    "hddm.plotting.plot_posterior_predictive(model = hddmnn_model_angle,\n",
    "                                        columns = 1,\n",
    "                                        groupby = ['subj_idx'],\n",
    "                                        figsize = (4, 4),\n",
    "                                        value_range = np.arange(0, 5, 0.1),\n",
    "                                        plot_func = hddm.plotting._plot_func_model,\n",
    "                                        parameter_recovery_mode = False,\n",
    "                                        **{'alpha': 0.01,\n",
    "                                        'ylim': 3,\n",
    "                                        'add_posterior_uncertainty_model': True,\n",
    "                                        'add_posterior_uncertainty_rts': False,\n",
    "                                        'add_posterior_mean_rts': True,\n",
    "                                        'samples': 200})\n",
    "plt.show()"
   ]
  },
  {
   "cell_type": "code",
   "execution_count": null,
   "id": "edc7bb50",
   "metadata": {},
   "outputs": [],
   "source": [
    "# DDM\n",
    "hddm.plotting.plot_posterior_predictive(model = hddmnn_model_ddm,\n",
    "                                        columns = 1,\n",
    "                                        groupby = ['subj_idx'],\n",
    "                                        figsize = (4, 4),\n",
    "                                        value_range = np.arange(0, 5, 0.1),\n",
    "                                        plot_func = hddm.plotting._plot_func_model,\n",
    "                                        parameter_recovery_mode = False,\n",
    "                                        **{'alpha': 0.01,\n",
    "                                        'ylim': 3,\n",
    "                                        'add_posterior_uncertainty_model': True,\n",
    "                                        'add_posterior_uncertainty_rts': False,\n",
    "                                        'add_posterior_mean_rts': True,\n",
    "                                        'samples': 200})\n",
    "plt.show()\n"
   ]
  },
  {
   "cell_type": "markdown",
   "id": "b38c6de7",
   "metadata": {},
   "source": [
    "### 7.2 Comparing DIC’s"
   ]
  },
  {
   "cell_type": "code",
   "execution_count": null,
   "id": "5f3352d6",
   "metadata": {},
   "outputs": [],
   "source": [
    "hddmnn_model_weibull.dic"
   ]
  },
  {
   "cell_type": "code",
   "execution_count": null,
   "id": "6b4a8244",
   "metadata": {},
   "outputs": [],
   "source": [
    "hddmnn_model_angle.dic"
   ]
  },
  {
   "cell_type": "code",
   "execution_count": null,
   "id": "fa38fd67",
   "metadata": {},
   "outputs": [],
   "source": [
    "hddmnn_model_ddm.dic"
   ]
  },
  {
   "cell_type": "markdown",
   "id": "49b5b79c",
   "metadata": {},
   "source": [
    "## Section 8: Real Data!"
   ]
  },
  {
   "cell_type": "code",
   "execution_count": null,
   "id": "e334a437",
   "metadata": {},
   "outputs": [],
   "source": [
    "# Metadata\n",
    "nmcmc = 1000\n",
    "burn = 500\n",
    "model = 'angle'"
   ]
  },
  {
   "cell_type": "markdown",
   "id": "7d93344f",
   "metadata": {},
   "source": [
    "### 8.1 Load and Pre-process dataset"
   ]
  },
  {
   "cell_type": "code",
   "execution_count": null,
   "id": "8a3a3787",
   "metadata": {},
   "outputs": [],
   "source": [
    "# Load one of the datasets shipping with HDDM\n",
    "cav_data = hddm.load_csv(hddm.__path__[0] + '/examples/cavanagh_theta_nn.csv')"
   ]
  },
  {
   "cell_type": "code",
   "execution_count": null,
   "id": "27d567d6",
   "metadata": {},
   "outputs": [],
   "source": [
    "cav_data"
   ]
  },
  {
   "cell_type": "markdown",
   "id": "9b102f74",
   "metadata": {},
   "source": [
    "### 8.2 Basic Condition Split Model"
   ]
  },
  {
   "cell_type": "code",
   "execution_count": null,
   "id": "5b300dbe",
   "metadata": {},
   "outputs": [],
   "source": [
    "hddmnn_model_cav = hddm.HDDMnn(cav_data,\n",
    "                               model = model,\n",
    "                               informative = False,\n",
    "                               include = hddm.simulators.model_config[model]['hddm_include'],\n",
    "                               p_outlier = 0.05,\n",
    "                               is_group_model = False,\n",
    "                               depends_on = {'v': 'stim'})"
   ]
  },
  {
   "cell_type": "code",
   "execution_count": null,
   "id": "69d90c2f",
   "metadata": {
    "scrolled": false
   },
   "outputs": [],
   "source": [
    "hddmnn_model_cav.sample(nmcmc, burn = burn)"
   ]
  },
  {
   "cell_type": "code",
   "execution_count": null,
   "id": "9facb4e8",
   "metadata": {
    "scrolled": true
   },
   "outputs": [],
   "source": [
    "hddm.plotting.plot_posterior_predictive(model = hddmnn_model_cav,\n",
    "                                        columns = 1,\n",
    "                                        figsize = (4, 4),\n",
    "                                        value_range = np.arange(0, 5, 0.1),\n",
    "                                        plot_func = hddm.plotting._plot_func_model,\n",
    "                                        parameter_recovery_mode = False,\n",
    "                                        **{'alpha': 0.01,\n",
    "                                        'ylim': 3,\n",
    "                                        'add_posterior_uncertainty_model': True,\n",
    "                                        'add_posterior_uncertainty_rts': False,\n",
    "                                        'add_posterior_mean_rts': True,\n",
    "                                        'samples': 200})\n",
    "plt.show()"
   ]
  },
  {
   "cell_type": "markdown",
   "id": "0606c61f",
   "metadata": {},
   "source": [
    "### 8.3 Basic Hierarchical Model"
   ]
  },
  {
   "cell_type": "code",
   "execution_count": null,
   "id": "16878ff7",
   "metadata": {},
   "outputs": [],
   "source": [
    "hddmnn_model_cav = hddm.HDDMnn(cav_data,\n",
    "                               model = model,\n",
    "                               informative = False,\n",
    "                               include = hddm.simulators.model_config[model]['hddm_include'],\n",
    "                               is_group_model = True,\n",
    "                               p_outlier = 0.05)"
   ]
  },
  {
   "cell_type": "code",
   "execution_count": null,
   "id": "17525ec9",
   "metadata": {},
   "outputs": [],
   "source": [
    "hddmnn_model_cav.sample(nmcmc, burn = burn)"
   ]
  },
  {
   "cell_type": "code",
   "execution_count": null,
   "id": "08a5c21b",
   "metadata": {},
   "outputs": [],
   "source": [
    "# Caterpillar Plot: (Parameters recovered ok?)\n",
    "hddm.plotting.plot_caterpillar(hddm_model = hddmnn_model_cav,\n",
    "                               figsize = (8, 8),\n",
    "                               columns = 3)\n",
    "\n",
    "plt.show()"
   ]
  },
  {
   "cell_type": "code",
   "execution_count": null,
   "id": "ad3848f5",
   "metadata": {},
   "outputs": [],
   "source": [
    "hddm.plotting.plot_posterior_predictive(model = hddmnn_model_cav,\n",
    "                                        columns = 3,\n",
    "                                        figsize = (10, 10),\n",
    "                                        value_range = np.arange(0, 5, 0.1),\n",
    "                                        plot_func = hddm.plotting._plot_func_model,\n",
    "                                        parameter_recovery_mode = False,\n",
    "                                        **{'alpha': 0.01,\n",
    "                                        'ylim': 3,\n",
    "                                        'add_posterior_uncertainty_model': True,\n",
    "                                        'add_posterior_uncertainty_rts': False,\n",
    "                                        'add_posterior_mean_rts': True,\n",
    "                                        'samples': 200,\n",
    "                                        'legend_fontsize': 7,\n",
    "                                        'subplots_adjust': {'top': 0.9, 'hspace': 0.3, 'wspace': 0.3}})\n",
    "plt.show()"
   ]
  },
  {
   "cell_type": "markdown",
   "id": "2cf4c68c",
   "metadata": {},
   "source": [
    "### Note\n",
    "This is just an example. The angle model might not be the best choice here, and we are moreover ignoring the supplied conditions."
   ]
  },
  {
   "cell_type": "markdown",
   "id": "59ea56c0",
   "metadata": {},
   "source": [
    "## Section 9: Accessing the Neural Network Directly"
   ]
  },
  {
   "cell_type": "markdown",
   "id": "bc4cbe52",
   "metadata": {},
   "source": [
    "### 9.1 Direct access to batch predictions"
   ]
  },
  {
   "cell_type": "code",
   "execution_count": null,
   "id": "83f5d24d",
   "metadata": {},
   "outputs": [],
   "source": [
    "model = 'angle'"
   ]
  },
  {
   "cell_type": "code",
   "execution_count": null,
   "id": "0b49b18c",
   "metadata": {},
   "outputs": [],
   "source": [
    "lan_angle = hddm.network_inspectors.get_torch_mlp(model = model)"
   ]
  },
  {
   "cell_type": "markdown",
   "id": "42cbeb39",
   "metadata": {},
   "source": [
    "Let’s predict some likelihoods !"
   ]
  },
  {
   "cell_type": "code",
   "execution_count": null,
   "id": "6aa63766",
   "metadata": {},
   "outputs": [],
   "source": [
    "# Make some random parameter set\n",
    "parameter_df = hddm.simulators.make_parameter_vectors_nn(model = model,\n",
    "                                                         param_dict = None,\n",
    "                                                         n_parameter_vectors = 1)\n",
    "parameter_matrix = np.tile(np.squeeze(parameter_df.values), (200, 1))\n",
    "\n",
    "# Initialize network input\n",
    "network_input = np.zeros((parameter_matrix.shape[0], parameter_matrix.shape[1] + 2)) # Note the + 2 on the right --> we append the parameter vectors with reaction times (+1 columns) and choices (+1 columns)\n",
    "\n",
    "# Add reaction times\n",
    "network_input[:, -2] = np.linspace(0, 3, parameter_matrix.shape[0])\n",
    "\n",
    "# Add choices\n",
    "network_input[:, -1] = np.repeat(np.random.choice([-1, 1]), parameter_matrix.shape[0])\n",
    "\n",
    "# Convert to float\n",
    "network_input = network_input.astype(np.float32)\n",
    "# Show example output\n",
    "print(lan_angle(network_input)[:10]) # printing the first 10 outputs\n",
    "print(lan_angle(network_input).shape) # original shape of output"
   ]
  },
  {
   "cell_type": "markdown",
   "id": "13c5459e",
   "metadata": {},
   "source": [
    "### 9.2 Plotting Utilities\n",
    "\n",
    "HDDM provides two plotting function to investigate the network outputs directly. The `kde_vs_lan_likelihoods()` plot and the `lan_manifold()` plot."
   ]
  },
  {
   "cell_type": "markdown",
   "id": "7772af53",
   "metadata": {},
   "source": [
    "#### 9.2.1 `kde_vs_lan_likelihoods()`\n",
    "The `kde_vs_lan_likelihoods()` plot allows you to check the likelihoods produced by a LAN against Kernel Density Estimates (KDEs) from model simulations. You can supply a panda `DataFrame` that holds parameter vectors as rows."
   ]
  },
  {
   "cell_type": "code",
   "execution_count": null,
   "id": "78f35b04",
   "metadata": {},
   "outputs": [],
   "source": [
    "# Make some parameters\n",
    "parameter_df = hddm.simulators.make_parameter_vectors_nn(model = model,\n",
    "                                                         param_dict = None,\n",
    "                                                         n_parameter_vectors = 10)\n"
   ]
  },
  {
   "cell_type": "code",
   "execution_count": null,
   "id": "5a438b22",
   "metadata": {},
   "outputs": [],
   "source": [
    "parameter_df"
   ]
  },
  {
   "cell_type": "code",
   "execution_count": null,
   "id": "ce5caee4",
   "metadata": {},
   "outputs": [],
   "source": [
    "hddm.network_inspectors.kde_vs_lan_likelihoods(parameter_df = parameter_df,\n",
    "                                               model = model,\n",
    "                                               cols = 3,\n",
    "                                               n_samples = 2000,\n",
    "                                               n_reps = 10,\n",
    "                                               show = True)"
   ]
  },
  {
   "cell_type": "markdown",
   "id": "d580a472",
   "metadata": {},
   "source": [
    "#### 9.2.2 `lan_manifold()`"
   ]
  },
  {
   "cell_type": "code",
   "execution_count": null,
   "id": "97360631",
   "metadata": {},
   "outputs": [],
   "source": [
    "# Make some parameters\n",
    "parameter_df = hddm.simulators.make_parameter_vectors_nn(model = model,\n",
    "                                                         param_dict = None,\n",
    "                                                         n_parameter_vectors = 1)\n"
   ]
  },
  {
   "cell_type": "code",
   "execution_count": null,
   "id": "136523fb",
   "metadata": {},
   "outputs": [],
   "source": [
    "parameter_df"
   ]
  },
  {
   "cell_type": "code",
   "execution_count": null,
   "id": "d81f74b1",
   "metadata": {},
   "outputs": [],
   "source": [
    "# Now plotting\n",
    "hddm.network_inspectors.lan_manifold(parameter_df = parameter_df,\n",
    "                                     vary_dict = {'v': np.linspace(-2, 2, 20)},\n",
    "                                     model = model,\n",
    "                                     n_rt_steps = 300,\n",
    "                                     fig_scale = 1.0,\n",
    "                                     max_rt = 5,\n",
    "                                     save = True,\n",
    "                                     show = True)\n"
   ]
  }
 ],
 "metadata": {
  "kernelspec": {
   "display_name": "Python 3",
   "language": "python",
   "name": "python3"
  },
  "language_info": {
   "codemirror_mode": {
    "name": "ipython",
    "version": 3
   },
   "file_extension": ".py",
   "mimetype": "text/x-python",
   "name": "python",
   "nbconvert_exporter": "python",
   "pygments_lexer": "ipython3",
   "version": "3.8.8"
  }
 },
 "nbformat": 4,
 "nbformat_minor": 5
}
